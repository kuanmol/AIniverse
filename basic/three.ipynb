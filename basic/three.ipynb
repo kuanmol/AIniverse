{
 "cells": [
  {
   "cell_type": "code",
   "id": "initial_id",
   "metadata": {
    "ExecuteTime": {
     "end_time": "2025-08-11T16:40:50.932556Z",
     "start_time": "2025-08-11T16:40:50.925968Z"
    }
   },
   "source": [
    "X = [[1], [2], [3], [4], [5]]\n",
    "y = [10, 20, 30, 40, 50]\n",
    "from sklearn.model_selection import train_test_split\n",
    "\n",
    "X_train, Y_train, x_test, y_test = train_test_split(X, y, test_size=0.2, random_state=7)\n",
    "print(x_test, y_test,X_train,Y_train)"
   ],
   "outputs": [
    {
     "name": "stdout",
     "output_type": "stream",
     "text": [
      "[40, 30, 20, 50] [10] [[4], [3], [2], [5]] [[1]]\n"
     ]
    }
   ],
   "execution_count": 9
  },
  {
   "metadata": {
    "ExecuteTime": {
     "end_time": "2025-08-11T16:40:50.956558Z",
     "start_time": "2025-08-11T16:40:50.943570Z"
    }
   },
   "cell_type": "code",
   "source": [
    "from sklearn.preprocessing import MinMaxScaler, StandardScaler\n",
    "import numpy as np\n",
    "data = np.array([[10], [20], [30]])\n",
    "print(MinMaxScaler().fit_transform(data))\n",
    "print(StandardScaler().fit_transform(data))"
   ],
   "id": "5084507a486d5990",
   "outputs": [
    {
     "name": "stdout",
     "output_type": "stream",
     "text": [
      "[[0. ]\n",
      " [0.5]\n",
      " [1. ]]\n",
      "[[-1.22474487]\n",
      " [ 0.        ]\n",
      " [ 1.22474487]]\n"
     ]
    }
   ],
   "execution_count": 10
  },
  {
   "metadata": {
    "ExecuteTime": {
     "end_time": "2025-08-11T16:40:51.001858Z",
     "start_time": "2025-08-11T16:40:50.994896Z"
    }
   },
   "cell_type": "code",
   "source": [
    "from sklearn.preprocessing import OneHotEncoder, LabelEncoder\n",
    "import numpy as np\n",
    "\n",
    "cities = np.array([[\"NY\"], [\"LA\"], [\"Chicago\"]])\n",
    "encoder = OneHotEncoder()\n",
    "print(encoder.fit_transform(cities).toarray())  # One-hot encoded"
   ],
   "id": "bac7054184654b13",
   "outputs": [
    {
     "name": "stdout",
     "output_type": "stream",
     "text": [
      "[[0. 0. 1.]\n",
      " [0. 1. 0.]\n",
      " [1. 0. 0.]]\n"
     ]
    }
   ],
   "execution_count": 11
  },
  {
   "metadata": {
    "ExecuteTime": {
     "end_time": "2025-08-11T16:47:09.688416Z",
     "start_time": "2025-08-11T16:47:09.673487Z"
    }
   },
   "cell_type": "code",
   "source": [
    "import pandas as pd\n",
    "import numpy as np\n",
    "\n",
    "df = pd.DataFrame({\n",
    "    \"name\": [\"Alice\", \"Bob\", \"Charlie\"],\n",
    "    \"age\": [25, np.nan, 30]\n",
    "})\n",
    "df[\"age\"] = df[\"age\"].fillna(df[\"age\"].mean())    # Mean\n",
    "df[\"age\"] = df[\"age\"].fillna(df[\"age\"].median())  # Median\n",
    "\n",
    "print(df)\n",
    "print()\n",
    "\n"
   ],
   "id": "91b3435d09b39d04",
   "outputs": [
    {
     "name": "stdout",
     "output_type": "stream",
     "text": [
      "      name   age\n",
      "0    Alice  25.0\n",
      "1      Bob  27.5\n",
      "2  Charlie  30.0\n",
      "\n"
     ]
    }
   ],
   "execution_count": 48
  },
  {
   "metadata": {
    "ExecuteTime": {
     "end_time": "2025-08-11T16:45:04.854970Z",
     "start_time": "2025-08-11T16:45:04.826506Z"
    }
   },
   "cell_type": "code",
   "source": [
    "df = pd.DataFrame({\"height\": [1.6, 1.8], \"weight\": [60, 80]})\n",
    "df[\"BMI\"] = df[\"weight\"] / (df[\"height\"] ** 2)\n",
    "print(df)\n"
   ],
   "id": "e0c01b5d9ffc446c",
   "outputs": [
    {
     "name": "stdout",
     "output_type": "stream",
     "text": [
      "   height  weight        BMI\n",
      "0     1.6      60  23.437500\n",
      "1     1.8      80  24.691358\n"
     ]
    }
   ],
   "execution_count": 37
  },
  {
   "metadata": {
    "ExecuteTime": {
     "end_time": "2025-08-11T16:45:40.327350Z",
     "start_time": "2025-08-11T16:45:40.306729Z"
    }
   },
   "cell_type": "code",
   "source": [
    "import re\n",
    "text = \"Hello, AI!!!\"\n",
    "cleaned = re.sub(r\"[^a-zA-Z\\s]\", \"\", text).lower()\n",
    "print(cleaned)  # 'hello ai'"
   ],
   "id": "fe0640839467860a",
   "outputs": [
    {
     "name": "stdout",
     "output_type": "stream",
     "text": [
      "hello ai\n"
     ]
    }
   ],
   "execution_count": 38
  },
  {
   "metadata": {
    "ExecuteTime": {
     "end_time": "2025-08-11T16:45:48.884854Z",
     "start_time": "2025-08-11T16:45:48.871817Z"
    }
   },
   "cell_type": "code",
   "source": [
    "import pandas as pd\n",
    "from sklearn.preprocessing import MinMaxScaler\n",
    "\n",
    "df = pd.DataFrame({\"height\": [150, 160, 170], \"weight\": [50, 60, 80]})\n",
    "scaler = MinMaxScaler()\n",
    "df_scaled = pd.DataFrame(scaler.fit_transform(df), columns=df.columns)\n",
    "print(df_scaled)"
   ],
   "id": "6019e844bd014f04",
   "outputs": [
    {
     "name": "stdout",
     "output_type": "stream",
     "text": [
      "   height    weight\n",
      "0     0.0  0.000000\n",
      "1     0.5  0.333333\n",
      "2     1.0  1.000000\n"
     ]
    }
   ],
   "execution_count": 39
  },
  {
   "metadata": {
    "ExecuteTime": {
     "end_time": "2025-08-11T16:40:51.046827Z",
     "start_time": "2025-08-11T16:40:51.042070Z"
    }
   },
   "cell_type": "code",
   "source": "",
   "id": "539f55c4878ba12e",
   "outputs": [],
   "execution_count": null
  }
 ],
 "metadata": {
  "kernelspec": {
   "display_name": "Python 3",
   "language": "python",
   "name": "python3"
  },
  "language_info": {
   "codemirror_mode": {
    "name": "ipython",
    "version": 2
   },
   "file_extension": ".py",
   "mimetype": "text/x-python",
   "name": "python",
   "nbconvert_exporter": "python",
   "pygments_lexer": "ipython2",
   "version": "2.7.6"
  }
 },
 "nbformat": 4,
 "nbformat_minor": 5
}
