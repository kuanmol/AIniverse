{
 "cells": [
  {
   "metadata": {
    "ExecuteTime": {
     "end_time": "2025-08-11T16:12:59.456253Z",
     "start_time": "2025-08-11T16:12:59.450061Z"
    }
   },
   "cell_type": "code",
   "source": [
    "import numpy as np\n",
    "\n",
    "arr = np.array([[5, 10, 15],\n",
    "                [20, 25, 30],\n",
    "                [35, 40, 45]])"
   ],
   "id": "65d2bebd802f7f0d",
   "outputs": [],
   "execution_count": 2
  },
  {
   "metadata": {
    "ExecuteTime": {
     "end_time": "2025-08-11T16:19:09.013568Z",
     "start_time": "2025-08-11T16:19:09.003562Z"
    }
   },
   "cell_type": "code",
   "source": [
    "print(arr.shape)\n",
    "print(arr.size)\n",
    "print(arr.dtype)\n",
    "print(arr[:-1:1])\n",
    "print(np.min(arr))\n",
    "print(np.max(arr))\n",
    "print(np.median(arr))\n",
    "print(np.std(arr))\n",
    "print(arr*2)"
   ],
   "id": "e039881f85fd8f0f",
   "outputs": [
    {
     "name": "stdout",
     "output_type": "stream",
     "text": [
      "(3, 3)\n",
      "9\n",
      "int32\n",
      "[[ 5 10 15]\n",
      " [20 25 30]]\n",
      "5\n",
      "45\n",
      "25.0\n",
      "12.909944487358056\n",
      "[[10 20 30]\n",
      " [40 50 60]\n",
      " [70 80 90]]\n"
     ]
    }
   ],
   "execution_count": 21
  },
  {
   "metadata": {
    "ExecuteTime": {
     "end_time": "2025-08-11T16:21:22.314992Z",
     "start_time": "2025-08-11T16:21:22.307562Z"
    }
   },
   "cell_type": "code",
   "source": [
    "import pandas as pd\n",
    "\n",
    "data = {\n",
    "    \"name\": [\"Alice\", \"Bob\", \"Charlie\", \"David\", \"Eva\"],\n",
    "    \"age\": [25, 30, 35, None, 40],\n",
    "    \"city\": [\"NY\", \"LA\", \"NY\", \"Chicago\", \"LA\"]\n",
    "}\n",
    "df = pd.DataFrame(data)\n",
    "print(df)"
   ],
   "id": "21f4f5c363dca3ce",
   "outputs": [
    {
     "name": "stdout",
     "output_type": "stream",
     "text": [
      "      name   age     city\n",
      "0    Alice  25.0       NY\n",
      "1      Bob  30.0       LA\n",
      "2  Charlie  35.0       NY\n",
      "3    David   NaN  Chicago\n",
      "4      Eva  40.0       LA\n"
     ]
    }
   ],
   "execution_count": 23
  },
  {
   "metadata": {
    "ExecuteTime": {
     "end_time": "2025-08-11T16:28:04.828060Z",
     "start_time": "2025-08-11T16:28:04.815861Z"
    }
   },
   "cell_type": "code",
   "source": [
    "print(df.head(3))\n",
    "print()\n",
    "print(df[[\"name\", \"city\"]])\n",
    "print()\n",
    "print(df[df[\"age\"] > 30])\n",
    "print()\n",
    "df[\"age\"] = df[\"age\"].fillna(0)\n",
    "print(df)\n",
    "print()\n",
    "print(df.groupby(\"city\")[\"age\"].mean())"
   ],
   "id": "8a0b88d807ec40ec",
   "outputs": [
    {
     "name": "stdout",
     "output_type": "stream",
     "text": [
      "      name   age city\n",
      "0    Alice  25.0   NY\n",
      "1      Bob  30.0   LA\n",
      "2  Charlie  35.0   NY\n",
      "\n",
      "      name     city\n",
      "0    Alice       NY\n",
      "1      Bob       LA\n",
      "2  Charlie       NY\n",
      "3    David  Chicago\n",
      "4      Eva       LA\n",
      "\n",
      "      name   age city\n",
      "2  Charlie  35.0   NY\n",
      "4      Eva  40.0   LA\n",
      "\n",
      "      name   age     city\n",
      "0    Alice  25.0       NY\n",
      "1      Bob  30.0       LA\n",
      "2  Charlie  35.0       NY\n",
      "3    David   0.0  Chicago\n",
      "4      Eva  40.0       LA\n",
      "\n",
      "city\n",
      "Chicago     0.0\n",
      "LA         35.0\n",
      "NY         30.0\n",
      "Name: age, dtype: float64\n"
     ]
    }
   ],
   "execution_count": 28
  }
 ],
 "metadata": {
  "kernelspec": {
   "display_name": "Python 3",
   "language": "python",
   "name": "python3"
  },
  "language_info": {
   "codemirror_mode": {
    "name": "ipython",
    "version": 2
   },
   "file_extension": ".py",
   "mimetype": "text/x-python",
   "name": "python",
   "nbconvert_exporter": "python",
   "pygments_lexer": "ipython2",
   "version": "2.7.6"
  }
 },
 "nbformat": 4,
 "nbformat_minor": 5
}
