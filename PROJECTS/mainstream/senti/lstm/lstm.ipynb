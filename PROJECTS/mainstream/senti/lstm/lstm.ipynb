{
 "cells": [
  {
   "cell_type": "code",
   "id": "initial_id",
   "metadata": {
    "ExecuteTime": {
     "end_time": "2025-08-14T18:28:35.421968Z",
     "start_time": "2025-08-14T18:28:24.348029Z"
    }
   },
   "source": [
    "# train_bilstm.py\n",
    "\n",
    "import pandas as pd\n",
    "import torch\n",
    "from torch.utils.data import Dataset, DataLoader\n",
    "import torch.nn as nn\n",
    "import torch.optim as optim\n",
    "from sklearn.model_selection import train_test_split\n",
    "from sklearn.metrics import f1_score, accuracy_score, roc_auc_score\n",
    "import re\n",
    "import html\n",
    "from tqdm import tqdm\n",
    "from collections import Counter\n",
    "from itertools import chain\n",
    "import numpy as np\n",
    "\n",
    "# ----------------------------\n",
    "# 1️⃣ Load & clean dataset\n",
    "# ----------------------------\n",
    "df = pd.read_csv(r\"R:\\AIniverse\\PROJECTS\\mainstream\\senti\\data\\train.csv\\train.csv\")  # path to your CSV\n",
    "\n",
    "label_cols = ['toxic', 'severe_toxic', 'obscene', 'threat', 'insult', 'identity_hate']\n",
    "\n",
    "def clean_text(text):\n",
    "    text = str(text)\n",
    "    text = html.unescape(text)\n",
    "    text = text.lower()\n",
    "    text = re.sub(r\"http\\S+|www\\S+|https\\S+\", \"\", text)\n",
    "    text = re.sub(r\"\\S+@\\S+\", \"\", text)\n",
    "    text = re.sub(r\"[^a-z\\s]\", \"\", text)\n",
    "    text = re.sub(r\"\\s+\", \" \", text).strip()\n",
    "    return text\n",
    "\n",
    "df['comment_text'] = df['comment_text'].apply(clean_text)\n",
    "\n",
    "train_df, temp_df = train_test_split(df, test_size=0.2, random_state=42)\n",
    "val_df, test_df = train_test_split(temp_df, test_size=0.5, random_state=42)\n",
    "\n",
    "# ----------------------------\n",
    "# 2️⃣ Build vocabulary\n",
    "# ----------------------------\n",
    "all_text = list(train_df['comment_text'])\n",
    "counter = Counter(chain.from_iterable([x.split() for x in all_text]))\n",
    "vocab = {w:i+2 for i,(w,c) in enumerate(counter.most_common())}  # +2 for PAD=0, UNK=1\n",
    "vocab['<PAD>'] = 0\n",
    "vocab['<UNK>'] = 1\n",
    "vocab_size = len(vocab)\n",
    "\n",
    "def encode_text(text, max_len=128):\n",
    "    tokens = [vocab.get(w,1) for w in text.split()]\n",
    "    if len(tokens) < max_len:\n",
    "        tokens += [0]*(max_len-len(tokens))\n",
    "    else:\n",
    "        tokens = tokens[:max_len]\n",
    "    return tokens\n",
    "\n",
    "# ----------------------------\n",
    "# 3️⃣ Dataset class\n",
    "# ----------------------------\n",
    "class ToxicDataset(Dataset):\n",
    "    def __init__(self, df):\n",
    "        self.texts = [encode_text(x) for x in df['comment_text']]\n",
    "        self.labels = torch.tensor(df[label_cols].values, dtype=torch.float32)\n",
    "    def __len__(self):\n",
    "        return len(self.labels)\n",
    "    def __getitem__(self, idx):\n",
    "        return {\n",
    "            'input_ids': torch.tensor(self.texts[idx], dtype=torch.long),\n",
    "            'labels': self.labels[idx]\n",
    "        }\n",
    "\n",
    "train_dataset = ToxicDataset(train_df)\n",
    "val_dataset = ToxicDataset(val_df)\n",
    "test_dataset = ToxicDataset(test_df)\n",
    "\n",
    "train_loader = DataLoader(train_dataset, batch_size=32, shuffle=True)\n",
    "val_loader = DataLoader(val_dataset, batch_size=32)\n",
    "test_loader = DataLoader(test_dataset, batch_size=32)\n",
    "\n",
    "# ----------------------------\n",
    "# 4️⃣ BiLSTM + Attention Model\n",
    "# ----------------------------\n",
    "class AttentionBiLSTM(nn.Module):\n",
    "    def __init__(self, vocab_size, embed_dim=128, hidden_dim=128, output_dim=6):\n",
    "        super().__init__()\n",
    "        self.embedding = nn.Embedding(vocab_size, embed_dim, padding_idx=0)\n",
    "        self.lstm = nn.LSTM(embed_dim, hidden_dim, batch_first=True, bidirectional=True)\n",
    "        self.attn = nn.Linear(hidden_dim*2, 1)\n",
    "        self.dropout = nn.Dropout(0.3)\n",
    "        self.fc = nn.Linear(hidden_dim*2, output_dim)\n",
    "\n",
    "    def forward(self, input_ids):\n",
    "        x = self.embedding(input_ids)\n",
    "        lstm_out, _ = self.lstm(x)\n",
    "        attn_weights = torch.softmax(self.attn(lstm_out).squeeze(-1), dim=1).unsqueeze(-1)\n",
    "        weighted = lstm_out * attn_weights\n",
    "        pooled = weighted.sum(1)\n",
    "        out = self.dropout(pooled)\n",
    "        return self.fc(out)\n",
    "\n",
    "device = torch.device('cuda' if torch.cuda.is_available() else 'cpu')\n",
    "model = AttentionBiLSTM(vocab_size).to(device)\n",
    "\n",
    "criterion = nn.BCEWithLogitsLoss()\n",
    "optimizer = optim.Adam(model.parameters(), lr=2e-3)"
   ],
   "outputs": [],
   "execution_count": 2
  },
  {
   "metadata": {
    "ExecuteTime": {
     "end_time": "2025-08-14T18:35:27.220256Z",
     "start_time": "2025-08-14T18:28:42.807456Z"
    }
   },
   "cell_type": "code",
   "source": [
    "\n",
    "# ----------------------------\n",
    "# 5️⃣ Training with Early Stopping\n",
    "# ----------------------------\n",
    "epochs = 20\n",
    "patience = 3\n",
    "best_val_loss = float('inf')\n",
    "early_stop_counter = 0\n",
    "\n",
    "for epoch in range(epochs):\n",
    "    model.train()\n",
    "    train_loss = 0\n",
    "    loop = tqdm(train_loader, leave=True)\n",
    "    for batch in loop:\n",
    "        optimizer.zero_grad()\n",
    "        input_ids = batch['input_ids'].to(device)\n",
    "        labels = batch['labels'].to(device)\n",
    "        outputs = model(input_ids)\n",
    "        loss = criterion(outputs, labels)\n",
    "        loss.backward()\n",
    "        optimizer.step()\n",
    "        train_loss += loss.item()\n",
    "        loop.set_postfix(loss=loss.item())\n",
    "\n",
    "    avg_train_loss = train_loss/len(train_loader)\n",
    "\n",
    "    # Validation\n",
    "    model.eval()\n",
    "    val_loss = 0\n",
    "    with torch.no_grad():\n",
    "        for batch in val_loader:\n",
    "            input_ids = batch['input_ids'].to(device)\n",
    "            labels = batch['labels'].to(device)\n",
    "            outputs = model(input_ids)\n",
    "            loss = criterion(outputs, labels)\n",
    "            val_loss += loss.item()\n",
    "    avg_val_loss = val_loss/len(val_loader)\n",
    "    print(f\"Epoch {epoch+1}: Train Loss {avg_train_loss:.4f}, Val Loss {avg_val_loss:.4f}\")\n",
    "\n",
    "    if avg_val_loss < best_val_loss:\n",
    "        best_val_loss = avg_val_loss\n",
    "        early_stop_counter = 0\n",
    "        torch.save(model.state_dict(), \"bilstm_toxic_model.pt\")\n",
    "        print(\"✅ Model improved. Saved.\")\n",
    "    else:\n",
    "        early_stop_counter +=1\n",
    "        if early_stop_counter>=patience:\n",
    "            print(\"⛔ Early stopping triggered.\")\n",
    "            break"
   ],
   "id": "80fd91016dc6c04e",
   "outputs": [
    {
     "name": "stderr",
     "output_type": "stream",
     "text": [
      "100%|██████████| 3990/3990 [01:17<00:00, 51.16it/s, loss=0.123]  \n"
     ]
    },
    {
     "name": "stdout",
     "output_type": "stream",
     "text": [
      "Epoch 1: Train Loss 0.0618, Val Loss 0.0487\n",
      "✅ Model improved. Saved.\n"
     ]
    },
    {
     "name": "stderr",
     "output_type": "stream",
     "text": [
      "100%|██████████| 3990/3990 [01:16<00:00, 51.82it/s, loss=0.00469]\n"
     ]
    },
    {
     "name": "stdout",
     "output_type": "stream",
     "text": [
      "Epoch 2: Train Loss 0.0412, Val Loss 0.0474\n",
      "✅ Model improved. Saved.\n"
     ]
    },
    {
     "name": "stderr",
     "output_type": "stream",
     "text": [
      "100%|██████████| 3990/3990 [01:17<00:00, 51.79it/s, loss=0.000193]\n"
     ]
    },
    {
     "name": "stdout",
     "output_type": "stream",
     "text": [
      "Epoch 3: Train Loss 0.0328, Val Loss 0.0511\n"
     ]
    },
    {
     "name": "stderr",
     "output_type": "stream",
     "text": [
      "100%|██████████| 3990/3990 [01:20<00:00, 49.42it/s, loss=3.13e-5] \n"
     ]
    },
    {
     "name": "stdout",
     "output_type": "stream",
     "text": [
      "Epoch 4: Train Loss 0.0262, Val Loss 0.0555\n"
     ]
    },
    {
     "name": "stderr",
     "output_type": "stream",
     "text": [
      "100%|██████████| 3990/3990 [01:23<00:00, 47.75it/s, loss=0.0355]  \n"
     ]
    },
    {
     "name": "stdout",
     "output_type": "stream",
     "text": [
      "Epoch 5: Train Loss 0.0213, Val Loss 0.0587\n",
      "⛔ Early stopping triggered.\n"
     ]
    }
   ],
   "execution_count": 3
  },
  {
   "metadata": {
    "ExecuteTime": {
     "end_time": "2025-08-14T18:41:39.434988Z",
     "start_time": "2025-08-14T18:41:37.760860Z"
    }
   },
   "cell_type": "code",
   "source": [
    "\n",
    "# ----------------------------\n",
    "# 6️⃣ Evaluation\n",
    "# ----------------------------\n",
    "model.load_state_dict(torch.load(\"bilstm_toxic_model.pt\"))\n",
    "model.eval()\n",
    "all_labels = []\n",
    "all_preds = []\n",
    "with torch.no_grad():\n",
    "    for batch in test_loader:\n",
    "        input_ids = batch['input_ids'].to(device)\n",
    "        labels = batch['labels'].cpu().numpy()\n",
    "        outputs = torch.sigmoid(model(input_ids)).cpu().numpy()\n",
    "        preds = (outputs>0.5).astype(int)\n",
    "        all_labels.append(labels)\n",
    "        all_preds.append(preds)\n",
    "\n",
    "all_labels = np.vstack(all_labels)\n",
    "all_preds = np.vstack(all_preds)\n",
    "\n",
    "for i,col in enumerate(label_cols):\n",
    "    print(f\"--- {col} ---\")\n",
    "    print(\"Accuracy: \", (all_labels[:,i]==all_preds[:,i]).mean())\n",
    "    print(\"F1-score:\", f1_score(all_labels[:,i], all_preds[:,i]))\n",
    "    print(\"ROC-AUC:\", roc_auc_score(all_labels[:,i], all_preds[:,i]))"
   ],
   "id": "e4186facc1d6e7dc",
   "outputs": [
    {
     "name": "stderr",
     "output_type": "stream",
     "text": [
      "C:\\Users\\anmol\\AppData\\Local\\Temp\\ipykernel_9444\\1187294176.py:4: FutureWarning: You are using `torch.load` with `weights_only=False` (the current default value), which uses the default pickle module implicitly. It is possible to construct malicious pickle data which will execute arbitrary code during unpickling (See https://github.com/pytorch/pytorch/blob/main/SECURITY.md#untrusted-models for more details). In a future release, the default value for `weights_only` will be flipped to `True`. This limits the functions that could be executed during unpickling. Arbitrary objects will no longer be allowed to be loaded via this mode unless they are explicitly allowlisted by the user via `torch.serialization.add_safe_globals`. We recommend you start setting `weights_only=True` for any use case where you don't have full control of the loaded file. Please open an issue on GitHub for any issues related to this experimental feature.\n",
      "  model.load_state_dict(torch.load(\"bilstm_toxic_model.pt\"))\n"
     ]
    },
    {
     "name": "stdout",
     "output_type": "stream",
     "text": [
      "--- toxic ---\n",
      "Accuracy:  0.9634039353302419\n",
      "F1-score: 0.7956613016095171\n",
      "ROC-AUC: 0.8670523600002916\n",
      "--- severe_toxic ---\n",
      "Accuracy:  0.9899110164180975\n",
      "F1-score: 0.34285714285714286\n",
      "ROC-AUC: 0.6283318327190194\n",
      "--- obscene ---\n",
      "Accuracy:  0.9798220328361951\n",
      "F1-score: 0.8031784841075794\n",
      "ROC-AUC: 0.8796893739394547\n",
      "--- threat ---\n",
      "Accuracy:  0.9978067426995865\n",
      "F1-score: 0.2553191489361702\n",
      "ROC-AUC: 0.5809554608310968\n",
      "--- insult ---\n",
      "Accuracy:  0.974746208798095\n",
      "F1-score: 0.7401676337846551\n",
      "ROC-AUC: 0.8496204620462046\n",
      "--- identity_hate ---\n",
      "Accuracy:  0.991978944729916\n",
      "F1-score: 0.36633663366336633\n",
      "ROC-AUC: 0.6332046208248594\n"
     ]
    }
   ],
   "execution_count": 4
  },
  {
   "metadata": {},
   "cell_type": "code",
   "outputs": [],
   "execution_count": null,
   "source": [
    "# bilstm_user_test.py\n",
    "\n",
    "import torch\n",
    "import torch.nn as nn\n",
    "import re\n",
    "import html\n",
    "import numpy as np\n",
    "\n",
    "vocab = torch.load(\"bilstm_vocab.pt\")  # saved vocab\n",
    "label_cols = ['toxic', 'severe_toxic', 'obscene', 'threat', 'insult', 'identity_hate']\n",
    "max_len = 128\n",
    "\n",
    "def clean_text(text):\n",
    "    text = str(text)\n",
    "    text = html.unescape(text)\n",
    "    text = text.lower()\n",
    "    text = re.sub(r\"http\\S+|www\\S+|https\\S+\", \"\", text)\n",
    "    text = re.sub(r\"\\S+@\\S+\", \"\", text)\n",
    "    text = re.sub(r\"[^a-z\\s]\", \"\", text)\n",
    "    text = re.sub(r\"\\s+\", \" \", text).strip()\n",
    "    return text\n",
    "\n",
    "def encode_text(text):\n",
    "    tokens = [vocab.get(w,1) for w in text.split()]\n",
    "    if len(tokens)<max_len:\n",
    "        tokens += [0]*(max_len-len(tokens))\n",
    "    else:\n",
    "        tokens = tokens[:max_len]\n",
    "    return torch.tensor(tokens).unsqueeze(0)\n",
    "\n",
    "class BiLSTMClassifier(nn.Module):\n",
    "    def __init__(self, vocab_size, embed_dim=128, hidden_dim=128, output_dim=6):\n",
    "        super().__init__()\n",
    "        self.embedding = nn.Embedding(vocab_size, embed_dim)\n",
    "        self.lstm = nn.LSTM(embed_dim, hidden_dim, batch_first=True, bidirectional=True)\n",
    "        self.attention = nn.Linear(hidden_dim*2,1)\n",
    "        self.fc = nn.Linear(hidden_dim*2, output_dim)\n",
    "        self.dropout = nn.Dropout(0.3)\n",
    "\n",
    "    def forward(self, x):\n",
    "        x = self.embedding(x)\n",
    "        out,_ = self.lstm(x)\n",
    "        attn_weights = torch.softmax(self.attention(out), dim=1)\n",
    "        out = torch.sum(out*attn_weights, dim=1)\n",
    "        out = self.dropout(out)\n",
    "        return self.fc(out)\n",
    "\n",
    "device = torch.device('cuda' if torch.cuda.is_available() else 'cpu')\n",
    "model = BiLSTMClassifier(vocab_size=len(vocab), output_dim=len(label_cols))\n",
    "model.load_state_dict(torch.load(\"bilstm_toxic_model.pt\", map_location=device))\n",
    "model.eval()\n",
    "model.to(device)\n",
    "\n",
    "def predict_toxicity(comment):\n",
    "    comment = clean_text(comment)\n",
    "    input_ids = encode_text(comment).to(device)\n",
    "    with torch.no_grad():\n",
    "        logits = model(input_ids)\n",
    "        probs = torch.sigmoid(logits).cpu().numpy()[0]\n",
    "    result = {label_cols[i]: {'prob': float(probs[i]), 'pred': int(probs[i]>0.5)} for i in range(len(label_cols))}\n",
    "    return result\n",
    "\n",
    "while True:\n",
    "    text = input(\"Enter comment (or 'quit' to exit): \")\n",
    "    if text.lower() == 'quit':\n",
    "        break\n",
    "    output = predict_toxicity(text)\n",
    "    print(output)\n"
   ],
   "id": "e5c713c57451a968"
  }
 ],
 "metadata": {
  "kernelspec": {
   "display_name": "Python 3",
   "language": "python",
   "name": "python3"
  },
  "language_info": {
   "codemirror_mode": {
    "name": "ipython",
    "version": 2
   },
   "file_extension": ".py",
   "mimetype": "text/x-python",
   "name": "python",
   "nbconvert_exporter": "python",
   "pygments_lexer": "ipython2",
   "version": "2.7.6"
  }
 },
 "nbformat": 4,
 "nbformat_minor": 5
}
