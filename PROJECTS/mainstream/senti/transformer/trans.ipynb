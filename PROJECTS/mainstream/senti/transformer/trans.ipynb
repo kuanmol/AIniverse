{
 "cells": [
  {
   "cell_type": "code",
   "id": "initial_id",
   "metadata": {
    "ExecuteTime": {
     "end_time": "2025-08-14T18:42:40.669520Z",
     "start_time": "2025-08-14T18:42:29.113485Z"
    }
   },
   "source": [
    "# train_transformer.py\n",
    "\n",
    "import pandas as pd\n",
    "import torch\n",
    "from torch.utils.data import Dataset, DataLoader\n",
    "import torch.nn as nn\n",
    "import torch.optim as optim\n",
    "from sklearn.model_selection import train_test_split\n",
    "from sklearn.metrics import f1_score,  roc_auc_score\n",
    "\n",
    "from tqdm import tqdm\n",
    "import numpy as np\n",
    "\n",
    "# ----------------------------\n",
    "# 1️⃣ Load & clean dataset\n",
    "# ----------------------------\n",
    "df = pd.read_csv(r\"R:\\AIniverse\\PROJECTS\\mainstream\\senti\\data\\train.csv\\train.csv\")  # path to your CSV\n",
    "label_cols = ['toxic', 'severe_toxic', 'obscene', 'threat', 'insult', 'identity_hate']\n",
    "\n",
    "def clean_text(text):\n",
    "    text = str(text)\n",
    "    text = html.unescape(text)\n",
    "    text = text.lower()\n",
    "    text = re.sub(r\"http\\S+|www\\S+|https\\S+\", \"\", text)\n",
    "    text = re.sub(r\"\\S+@\\S+\", \"\", text)\n",
    "    text = re.sub(r\"[^a-z\\s]\", \"\", text)\n",
    "    text = re.sub(r\"\\s+\", \" \", text).strip()\n",
    "    return text\n",
    "\n",
    "df['comment_text'] = df['comment_text'].apply(clean_text)\n",
    "train_df, temp_df = train_test_split(df, test_size=0.2, random_state=42)\n",
    "val_df, test_df = train_test_split(temp_df, test_size=0.5, random_state=42)\n",
    "\n",
    "all_text = list(train_df['comment_text'])\n",
    "words = list(set(word for sent in all_text for word in sent.split()))\n",
    "vocab = {w:i+2 for i,w in enumerate(words)}  # 0:PAD, 1:UNK\n",
    "vocab['<PAD>'] = 0\n",
    "vocab['<UNK>'] = 1\n",
    "vocab_size = len(vocab)\n",
    "\n",
    "def encode_text(text, max_len=128):\n",
    "    tokens = [vocab.get(w,1) for w in text.split()]\n",
    "    if len(tokens) < max_len:\n",
    "        tokens += [0]*(max_len-len(tokens))\n",
    "    else:\n",
    "        tokens = tokens[:max_len]\n",
    "    return tokens\n",
    "\n",
    "class ToxicDataset(Dataset):\n",
    "    def __init__(self, df):\n",
    "        self.texts = [encode_text(x) for x in df['comment_text']]\n",
    "        self.labels = torch.tensor(df[label_cols].values, dtype=torch.float32)\n",
    "    def __len__(self):\n",
    "        return len(self.labels)\n",
    "    def __getitem__(self, idx):\n",
    "        return {'input_ids': torch.tensor(self.texts[idx], dtype=torch.long),\n",
    "                'labels': self.labels[idx]}\n",
    "\n",
    "train_dataset = ToxicDataset(train_df)\n",
    "val_dataset = ToxicDataset(val_df)\n",
    "test_dataset = ToxicDataset(test_df)\n",
    "\n",
    "train_loader = DataLoader(train_dataset, batch_size=32, shuffle=True)\n",
    "val_loader = DataLoader(val_dataset, batch_size=32)\n",
    "test_loader = DataLoader(test_dataset, batch_size=32)\n",
    "\n",
    "\n",
    "class MiniTransformer(nn.Module):\n",
    "    def __init__(self, vocab_size, embed_dim=128, n_heads=4, ff_dim=256, num_layers=2, output_dim=6, max_len=128):\n",
    "        super().__init__()\n",
    "        self.embedding = nn.Embedding(vocab_size, embed_dim)\n",
    "        self.pos_embedding = nn.Embedding(max_len, embed_dim)\n",
    "\n",
    "        encoder_layer = nn.TransformerEncoderLayer(d_model=embed_dim, nhead=n_heads, dim_feedforward=ff_dim, batch_first=True)\n",
    "        self.transformer = nn.TransformerEncoder(encoder_layer, num_layers=num_layers)\n",
    "\n",
    "        self.dropout = nn.Dropout(0.3)\n",
    "        self.fc = nn.Linear(embed_dim, output_dim)\n",
    "        self.max_len = max_len\n",
    "\n",
    "    def forward(self, x):\n",
    "        positions = torch.arange(0, x.size(1), device=x.device).unsqueeze(0)\n",
    "        x = self.embedding(x) + self.pos_embedding(positions)\n",
    "        x = self.transformer(x)\n",
    "        x = self.dropout(x[:,0])  # take first token for classification\n",
    "        return self.fc(x)"
   ],
   "outputs": [],
   "execution_count": 1
  },
  {
   "metadata": {
    "ExecuteTime": {
     "end_time": "2025-08-14T19:17:16.952688Z",
     "start_time": "2025-08-14T18:43:55.074706Z"
    }
   },
   "cell_type": "code",
   "source": [
    "\n",
    "device = torch.device('cuda' if torch.cuda.is_available() else 'cpu')\n",
    "model = MiniTransformer(vocab_size).to(device)\n",
    "\n",
    "criterion = nn.BCEWithLogitsLoss()\n",
    "optimizer = optim.Adam(model.parameters(), lr=2e-3)\n",
    "\n",
    "epochs = 20\n",
    "patience = 3\n",
    "best_val_loss = float('inf')\n",
    "early_stop_counter = 0\n",
    "\n",
    "for epoch in range(epochs):\n",
    "    model.train()\n",
    "    train_loss = 0\n",
    "    loop = tqdm(train_loader, leave=True)\n",
    "    for batch in loop:\n",
    "        optimizer.zero_grad()\n",
    "        input_ids = batch['input_ids'].to(device)\n",
    "        labels = batch['labels'].to(device)\n",
    "        outputs = model(input_ids)\n",
    "        loss = criterion(outputs, labels)\n",
    "        loss.backward()\n",
    "        optimizer.step()\n",
    "        train_loss += loss.item()\n",
    "        loop.set_postfix(loss=loss.item())\n",
    "\n",
    "    avg_train_loss = train_loss/len(train_loader)\n",
    "\n",
    "    # Validation\n",
    "    model.eval()\n",
    "    val_loss = 0\n",
    "    with torch.no_grad():\n",
    "        for batch in val_loader:\n",
    "            input_ids = batch['input_ids'].to(device)\n",
    "            labels = batch['labels'].to(device)\n",
    "            outputs = model(input_ids)\n",
    "            loss = criterion(outputs, labels)\n",
    "            val_loss += loss.item()\n",
    "    avg_val_loss = val_loss/len(val_loader)\n",
    "    print(f\"Epoch {epoch+1}: Train Loss {avg_train_loss:.4f}, Val Loss {avg_val_loss:.4f}\")\n",
    "\n",
    "    if avg_val_loss < best_val_loss:\n",
    "        best_val_loss = avg_val_loss\n",
    "        early_stop_counter = 0\n",
    "        torch.save(model.state_dict(), \"mini_transformer_toxic_model.pt\")\n",
    "        print(\"✅ Model improved. Saved.\")\n",
    "    else:\n",
    "        early_stop_counter +=1\n",
    "        if early_stop_counter>=patience:\n",
    "            print(\"⛔ Earl   y stopping triggered.\")\n",
    "            break"
   ],
   "id": "45fe536218837c1b",
   "outputs": [
    {
     "name": "stderr",
     "output_type": "stream",
     "text": [
      "100%|██████████| 3990/3990 [01:35<00:00, 41.67it/s, loss=0.521] \n"
     ]
    },
    {
     "name": "stdout",
     "output_type": "stream",
     "text": [
      "Epoch 1: Train Loss 0.1367, Val Loss 0.1268\n",
      "✅ Model improved. Saved.\n"
     ]
    },
    {
     "name": "stderr",
     "output_type": "stream",
     "text": [
      "100%|██████████| 3990/3990 [01:35<00:00, 41.70it/s, loss=0.0446]\n"
     ]
    },
    {
     "name": "stdout",
     "output_type": "stream",
     "text": [
      "Epoch 2: Train Loss 0.1289, Val Loss 0.1197\n",
      "✅ Model improved. Saved.\n"
     ]
    },
    {
     "name": "stderr",
     "output_type": "stream",
     "text": [
      "100%|██████████| 3990/3990 [01:35<00:00, 41.69it/s, loss=0.0687]\n"
     ]
    },
    {
     "name": "stdout",
     "output_type": "stream",
     "text": [
      "Epoch 3: Train Loss 0.1175, Val Loss 0.1098\n",
      "✅ Model improved. Saved.\n"
     ]
    },
    {
     "name": "stderr",
     "output_type": "stream",
     "text": [
      "100%|██████████| 3990/3990 [01:35<00:00, 41.72it/s, loss=0.0257]\n"
     ]
    },
    {
     "name": "stdout",
     "output_type": "stream",
     "text": [
      "Epoch 4: Train Loss 0.1058, Val Loss 0.1016\n",
      "✅ Model improved. Saved.\n"
     ]
    },
    {
     "name": "stderr",
     "output_type": "stream",
     "text": [
      "100%|██████████| 3990/3990 [01:39<00:00, 40.13it/s, loss=0.0907]\n"
     ]
    },
    {
     "name": "stdout",
     "output_type": "stream",
     "text": [
      "Epoch 5: Train Loss 0.0979, Val Loss 0.1029\n"
     ]
    },
    {
     "name": "stderr",
     "output_type": "stream",
     "text": [
      "100%|██████████| 3990/3990 [01:35<00:00, 41.87it/s, loss=0.067]  \n"
     ]
    },
    {
     "name": "stdout",
     "output_type": "stream",
     "text": [
      "Epoch 6: Train Loss 0.0917, Val Loss 0.0958\n",
      "✅ Model improved. Saved.\n"
     ]
    },
    {
     "name": "stderr",
     "output_type": "stream",
     "text": [
      "100%|██████████| 3990/3990 [01:38<00:00, 40.37it/s, loss=0.0624] \n"
     ]
    },
    {
     "name": "stdout",
     "output_type": "stream",
     "text": [
      "Epoch 7: Train Loss 0.0892, Val Loss 0.0946\n",
      "✅ Model improved. Saved.\n"
     ]
    },
    {
     "name": "stderr",
     "output_type": "stream",
     "text": [
      "100%|██████████| 3990/3990 [01:35<00:00, 41.59it/s, loss=0.08]   \n"
     ]
    },
    {
     "name": "stdout",
     "output_type": "stream",
     "text": [
      "Epoch 8: Train Loss 0.0865, Val Loss 0.0937\n",
      "✅ Model improved. Saved.\n"
     ]
    },
    {
     "name": "stderr",
     "output_type": "stream",
     "text": [
      "100%|██████████| 3990/3990 [01:36<00:00, 41.54it/s, loss=0.047]  \n"
     ]
    },
    {
     "name": "stdout",
     "output_type": "stream",
     "text": [
      "Epoch 9: Train Loss 0.0840, Val Loss 0.0956\n"
     ]
    },
    {
     "name": "stderr",
     "output_type": "stream",
     "text": [
      "100%|██████████| 3990/3990 [01:36<00:00, 41.41it/s, loss=0.0199] \n"
     ]
    },
    {
     "name": "stdout",
     "output_type": "stream",
     "text": [
      "Epoch 10: Train Loss 0.0837, Val Loss 0.0848\n",
      "✅ Model improved. Saved.\n"
     ]
    },
    {
     "name": "stderr",
     "output_type": "stream",
     "text": [
      "100%|██████████| 3990/3990 [01:37<00:00, 41.06it/s, loss=0.0402] \n"
     ]
    },
    {
     "name": "stdout",
     "output_type": "stream",
     "text": [
      "Epoch 11: Train Loss 0.0757, Val Loss 0.0790\n",
      "✅ Model improved. Saved.\n"
     ]
    },
    {
     "name": "stderr",
     "output_type": "stream",
     "text": [
      "100%|██████████| 3990/3990 [01:36<00:00, 41.51it/s, loss=0.0757] \n"
     ]
    },
    {
     "name": "stdout",
     "output_type": "stream",
     "text": [
      "Epoch 12: Train Loss 0.0673, Val Loss 0.0796\n"
     ]
    },
    {
     "name": "stderr",
     "output_type": "stream",
     "text": [
      "100%|██████████| 3990/3990 [01:36<00:00, 41.40it/s, loss=0.00286]\n"
     ]
    },
    {
     "name": "stdout",
     "output_type": "stream",
     "text": [
      "Epoch 13: Train Loss 0.0639, Val Loss 0.0687\n",
      "✅ Model improved. Saved.\n"
     ]
    },
    {
     "name": "stderr",
     "output_type": "stream",
     "text": [
      "100%|██████████| 3990/3990 [01:48<00:00, 36.66it/s, loss=0.0355] \n"
     ]
    },
    {
     "name": "stdout",
     "output_type": "stream",
     "text": [
      "Epoch 14: Train Loss 0.0623, Val Loss 0.0691\n"
     ]
    },
    {
     "name": "stderr",
     "output_type": "stream",
     "text": [
      "100%|██████████| 3990/3990 [01:46<00:00, 37.50it/s, loss=0.00166]\n"
     ]
    },
    {
     "name": "stdout",
     "output_type": "stream",
     "text": [
      "Epoch 15: Train Loss 0.0625, Val Loss 0.0661\n",
      "✅ Model improved. Saved.\n"
     ]
    },
    {
     "name": "stderr",
     "output_type": "stream",
     "text": [
      "100%|██████████| 3990/3990 [01:36<00:00, 41.27it/s, loss=0.104]  \n"
     ]
    },
    {
     "name": "stdout",
     "output_type": "stream",
     "text": [
      "Epoch 16: Train Loss 0.0607, Val Loss 0.0663\n"
     ]
    },
    {
     "name": "stderr",
     "output_type": "stream",
     "text": [
      "100%|██████████| 3990/3990 [01:36<00:00, 41.41it/s, loss=0.00267]\n"
     ]
    },
    {
     "name": "stdout",
     "output_type": "stream",
     "text": [
      "Epoch 17: Train Loss 0.0608, Val Loss 0.0666\n"
     ]
    },
    {
     "name": "stderr",
     "output_type": "stream",
     "text": [
      "100%|██████████| 3990/3990 [01:37<00:00, 40.97it/s, loss=0.0954] \n"
     ]
    },
    {
     "name": "stdout",
     "output_type": "stream",
     "text": [
      "Epoch 18: Train Loss 0.0566, Val Loss 0.0645\n",
      "✅ Model improved. Saved.\n"
     ]
    },
    {
     "name": "stderr",
     "output_type": "stream",
     "text": [
      "100%|██████████| 3990/3990 [01:40<00:00, 39.71it/s, loss=0.0137] \n"
     ]
    },
    {
     "name": "stdout",
     "output_type": "stream",
     "text": [
      "Epoch 19: Train Loss 0.0539, Val Loss 0.0662\n"
     ]
    },
    {
     "name": "stderr",
     "output_type": "stream",
     "text": [
      "100%|██████████| 3990/3990 [01:46<00:00, 37.53it/s, loss=0.00137]\n"
     ]
    },
    {
     "name": "stdout",
     "output_type": "stream",
     "text": [
      "Epoch 20: Train Loss 0.0532, Val Loss 0.0677\n"
     ]
    }
   ],
   "execution_count": 2
  },
  {
   "metadata": {
    "ExecuteTime": {
     "end_time": "2025-08-14T19:18:07.785718Z",
     "start_time": "2025-08-14T19:18:05.904052Z"
    }
   },
   "cell_type": "code",
   "source": [
    "\n",
    "# ----------------------------\n",
    "# 6️⃣ Evaluation\n",
    "# ----------------------------\n",
    "model.load_state_dict(torch.load(\"mini_transformer_toxic_model.pt\"))\n",
    "model.eval()\n",
    "all_labels = []\n",
    "all_preds = []\n",
    "with torch.no_grad():\n",
    "    for batch in test_loader:\n",
    "        input_ids = batch['input_ids'].to(device)\n",
    "        labels = batch['labels'].cpu().numpy()\n",
    "        outputs = torch.sigmoid(model(input_ids)).cpu().numpy()\n",
    "        preds = (outputs>0.5).astype(int)\n",
    "        all_labels.append(labels)\n",
    "        all_preds.append(preds)\n",
    "\n",
    "all_labels = np.vstack(all_labels)\n",
    "all_preds = np.vstack(all_preds)\n",
    "\n",
    "for i,col in enumerate(label_cols):\n",
    "    print(f\"--- {col} ---\")\n",
    "    print(\"Accuracy: \", (all_labels[:,i]==all_preds[:,i]).mean())\n",
    "    print(\"F1-score:\", f1_score(all_labels[:,i], all_preds[:,i]))\n",
    "    print(\"ROC-AUC:\", roc_auc_score(all_labels[:,i], all_preds[:,i]))"
   ],
   "id": "64e9607ad40ab693",
   "outputs": [
    {
     "name": "stderr",
     "output_type": "stream",
     "text": [
      "C:\\Users\\anmol\\AppData\\Local\\Temp\\ipykernel_7016\\2318801401.py:4: FutureWarning: You are using `torch.load` with `weights_only=False` (the current default value), which uses the default pickle module implicitly. It is possible to construct malicious pickle data which will execute arbitrary code during unpickling (See https://github.com/pytorch/pytorch/blob/main/SECURITY.md#untrusted-models for more details). In a future release, the default value for `weights_only` will be flipped to `True`. This limits the functions that could be executed during unpickling. Arbitrary objects will no longer be allowed to be loaded via this mode unless they are explicitly allowlisted by the user via `torch.serialization.add_safe_globals`. We recommend you start setting `weights_only=True` for any use case where you don't have full control of the loaded file. Please open an issue on GitHub for any issues related to this experimental feature.\n",
      "  model.load_state_dict(torch.load(\"mini_transformer_toxic_model.pt\"))\n"
     ]
    },
    {
     "name": "stdout",
     "output_type": "stream",
     "text": [
      "--- toxic ---\n",
      "Accuracy:  0.9572001503947863\n",
      "F1-score: 0.7454342154304883\n",
      "ROC-AUC: 0.8233025422678458\n",
      "--- severe_toxic ---\n",
      "Accuracy:  0.9891590424865271\n",
      "F1-score: 0.4175084175084175\n",
      "ROC-AUC: 0.689047313118808\n",
      "--- obscene ---\n",
      "Accuracy:  0.9754981827296654\n",
      "F1-score: 0.7605633802816901\n",
      "ROC-AUC: 0.8575687660358162\n",
      "--- threat ---\n",
      "Accuracy:  0.9976814137109914\n",
      "F1-score: 0.0\n",
      "ROC-AUC: 0.5\n",
      "--- insult ---\n",
      "Accuracy:  0.9679157789196641\n",
      "F1-score: 0.6679636835278858\n",
      "ROC-AUC: 0.811460396039604\n",
      "--- identity_hate ---\n",
      "Accuracy:  0.9913522997869407\n",
      "F1-score: 0.0\n",
      "ROC-AUC: 0.5\n"
     ]
    }
   ],
   "execution_count": 3
  },
  {
   "metadata": {},
   "cell_type": "code",
   "outputs": [],
   "execution_count": null,
   "source": [
    "# transformer_user_test.py\n",
    "\n",
    "import torch\n",
    "import torch.nn as nn\n",
    "import re\n",
    "import html\n",
    "import numpy as np\n",
    "\n",
    "vocab = torch.load(\"transformer_vocab.pt\")  # saved vocab\n",
    "label_cols = ['toxic', 'severe_toxic', 'obscene', 'threat', 'insult', 'identity_hate']\n",
    "max_len = 128\n",
    "\n",
    "def clean_text(text):\n",
    "    text = str(text)\n",
    "    text = html.unescape(text)\n",
    "    text = text.lower()\n",
    "    text = re.sub(r\"http\\S+|www\\S+|https\\S+\", \"\", text)\n",
    "    text = re.sub(r\"\\S+@\\S+\", \"\", text)\n",
    "    text = re.sub(r\"[^a-z\\s]\", \"\", text)\n",
    "    text = re.sub(r\"\\s+\", \" \", text).strip()\n",
    "    return text\n",
    "\n",
    "def encode_text(text):\n",
    "    tokens = [vocab.get(w,1) for w in text.split()]\n",
    "    if len(tokens)<max_len:\n",
    "        tokens += [0]*(max_len-len(tokens))\n",
    "    else:\n",
    "        tokens = tokens[:max_len]\n",
    "    return torch.tensor(tokens).unsqueeze(0)\n",
    "\n",
    "class MiniTransformer(nn.Module):\n",
    "    def __init__(self, vocab_size, embed_dim=128, n_heads=4, ff_dim=256, num_layers=2, output_dim=6, max_len=128):\n",
    "        super().__init__()\n",
    "        self.embedding = nn.Embedding(vocab_size, embed_dim)\n",
    "        self.pos_embedding = nn.Embedding(max_len, embed_dim)\n",
    "        encoder_layer = nn.TransformerEncoderLayer(d_model=embed_dim, nhead=n_heads, dim_feedforward=ff_dim, batch_first=True)\n",
    "        self.transformer = nn.TransformerEncoder(encoder_layer, num_layers=num_layers)\n",
    "        self.dropout = nn.Dropout(0.3)\n",
    "        self.fc = nn.Linear(embed_dim, output_dim)\n",
    "        self.max_len = max_len\n",
    "\n",
    "    def forward(self, x):\n",
    "        positions = torch.arange(0, x.size(1), device=x.device).unsqueeze(0)\n",
    "        x = self.embedding(x) + self.pos_embedding(positions)\n",
    "        x = self.transformer(x)\n",
    "        x = self.dropout(x[:,0])\n",
    "        return self.fc(x)\n",
    "\n",
    "device = torch.device('cuda' if torch.cuda.is_available() else 'cpu')\n",
    "model = MiniTransformer(vocab_size=len(vocab)).to(device)\n",
    "model.load_state_dict(torch.load(\"mini_transformer_toxic_model.pt\", map_location=device))\n",
    "model.eval()\n",
    "\n",
    "def predict_toxicity(comment):\n",
    "    comment = clean_text(comment)\n",
    "    input_ids = encode_text(comment).to(device)\n",
    "    with torch.no_grad():\n",
    "        logits = model(input_ids)\n",
    "        probs = torch.sigmoid(logits).cpu().numpy()[0]\n",
    "    result = {label_cols[i]: {'prob': float(probs[i]), 'pred': int(probs[i]>0.5)} for i in range(len(label_cols))}\n",
    "    return result\n",
    "\n",
    "while True:\n",
    "    text = input(\"Enter comment (or 'quit' to exit): \")\n",
    "    if text.lower() == 'quit':\n",
    "        break\n",
    "    output = predict_toxicity(text)\n",
    "    print(output)\n"
   ],
   "id": "22f139af9bba05c7"
  }
 ],
 "metadata": {
  "kernelspec": {
   "display_name": "Python 3",
   "language": "python",
   "name": "python3"
  },
  "language_info": {
   "codemirror_mode": {
    "name": "ipython",
    "version": 2
   },
   "file_extension": ".py",
   "mimetype": "text/x-python",
   "name": "python",
   "nbconvert_exporter": "python",
   "pygments_lexer": "ipython2",
   "version": "2.7.6"
  }
 },
 "nbformat": 4,
 "nbformat_minor": 5
}
