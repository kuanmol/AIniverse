{
 "cells": [
  {
   "cell_type": "code",
   "id": "initial_id",
   "metadata": {
    "ExecuteTime": {
     "end_time": "2025-08-14T17:42:26.157940Z",
     "start_time": "2025-08-14T17:42:25.361757Z"
    }
   },
   "source": [
    "import pandas as pd\n",
    "\n",
    "# Load dataset\n",
    "df = pd.read_csv(r\"R:\\AIniverse\\PROJECTS\\mainstream\\senti\\data\\train.csv\\train.csv\")\n",
    "\n",
    "# Quick overview\n",
    "print(df.head())\n",
    "print(df.info())\n",
    "print(df.describe())\n",
    "\n",
    "# Check label distribution\n",
    "label_cols = ['toxic', 'severe_toxic', 'obscene', 'threat', 'insult', 'identity_hate']\n",
    "print(df[label_cols].sum())"
   ],
   "outputs": [
    {
     "name": "stdout",
     "output_type": "stream",
     "text": [
      "                 id                                       comment_text  toxic  \\\n",
      "0  0000997932d777bf  Explanation\\nWhy the edits made under my usern...      0   \n",
      "1  000103f0d9cfb60f  D'aww! He matches this background colour I'm s...      0   \n",
      "2  000113f07ec002fd  Hey man, I'm really not trying to edit war. It...      0   \n",
      "3  0001b41b1c6bb37e  \"\\nMore\\nI can't make any real suggestions on ...      0   \n",
      "4  0001d958c54c6e35  You, sir, are my hero. Any chance you remember...      0   \n",
      "\n",
      "   severe_toxic  obscene  threat  insult  identity_hate  \n",
      "0             0        0       0       0              0  \n",
      "1             0        0       0       0              0  \n",
      "2             0        0       0       0              0  \n",
      "3             0        0       0       0              0  \n",
      "4             0        0       0       0              0  \n",
      "<class 'pandas.core.frame.DataFrame'>\n",
      "RangeIndex: 159571 entries, 0 to 159570\n",
      "Data columns (total 8 columns):\n",
      " #   Column         Non-Null Count   Dtype \n",
      "---  ------         --------------   ----- \n",
      " 0   id             159571 non-null  object\n",
      " 1   comment_text   159571 non-null  object\n",
      " 2   toxic          159571 non-null  int64 \n",
      " 3   severe_toxic   159571 non-null  int64 \n",
      " 4   obscene        159571 non-null  int64 \n",
      " 5   threat         159571 non-null  int64 \n",
      " 6   insult         159571 non-null  int64 \n",
      " 7   identity_hate  159571 non-null  int64 \n",
      "dtypes: int64(6), object(2)\n",
      "memory usage: 9.7+ MB\n",
      "None\n",
      "               toxic   severe_toxic        obscene         threat  \\\n",
      "count  159571.000000  159571.000000  159571.000000  159571.000000   \n",
      "mean        0.095844       0.009996       0.052948       0.002996   \n",
      "std         0.294379       0.099477       0.223931       0.054650   \n",
      "min         0.000000       0.000000       0.000000       0.000000   \n",
      "25%         0.000000       0.000000       0.000000       0.000000   \n",
      "50%         0.000000       0.000000       0.000000       0.000000   \n",
      "75%         0.000000       0.000000       0.000000       0.000000   \n",
      "max         1.000000       1.000000       1.000000       1.000000   \n",
      "\n",
      "              insult  identity_hate  \n",
      "count  159571.000000  159571.000000  \n",
      "mean        0.049364       0.008805  \n",
      "std         0.216627       0.093420  \n",
      "min         0.000000       0.000000  \n",
      "25%         0.000000       0.000000  \n",
      "50%         0.000000       0.000000  \n",
      "75%         0.000000       0.000000  \n",
      "max         1.000000       1.000000  \n",
      "toxic            15294\n",
      "severe_toxic      1595\n",
      "obscene           8449\n",
      "threat             478\n",
      "insult            7877\n",
      "identity_hate     1405\n",
      "dtype: int64\n"
     ]
    }
   ],
   "execution_count": 12
  },
  {
   "metadata": {
    "ExecuteTime": {
     "end_time": "2025-08-14T17:42:27.042787Z",
     "start_time": "2025-08-14T17:42:26.164175Z"
    }
   },
   "cell_type": "code",
   "source": [
    "#Check Label Distribution\n",
    "\n",
    "label_cols = ['toxic', 'severe_toxic', 'obscene', 'threat', 'insult', 'identity_hate']\n",
    "\n",
    "# Sum of each label\n",
    "print(df[label_cols].sum())\n",
    "\n",
    "# Optional: visualize distribution\n",
    "import matplotlib.pyplot as plt\n",
    "\n",
    "df[label_cols].sum().plot(kind='bar', title='Label Distribution')\n",
    "plt.show()\n"
   ],
   "id": "da616ec7c768ddc",
   "outputs": [
    {
     "name": "stdout",
     "output_type": "stream",
     "text": [
      "toxic            15294\n",
      "severe_toxic      1595\n",
      "obscene           8449\n",
      "threat             478\n",
      "insult            7877\n",
      "identity_hate     1405\n",
      "dtype: int64\n"
     ]
    },
    {
     "data": {
      "text/plain": [
       "<Figure size 640x480 with 1 Axes>"
      ],
      "image/png": "[encoded data removed]"
     },
     "metadata": {},
     "output_type": "display_data"
    }
   ],
   "execution_count": 13
  },
  {
   "metadata": {
    "ExecuteTime": {
     "end_time": "2025-08-14T17:42:32.130413Z",
     "start_time": "2025-08-14T17:42:27.073521Z"
    }
   },
   "cell_type": "code",
   "source": [
    "import html\n",
    "import re\n",
    "def clean_text(text):\n",
    "    text = str(text)\n",
    "    text = html.unescape(text)  # Converts &nbsp; → space, &amp; → &\n",
    "    text = text.lower()\n",
    "    text = re.sub(r\"http\\S+|www\\S+|https\\S+\", \"\", text)  # Remove URLs\n",
    "    text = re.sub(r\"\\S+@\\S+\", \"\", text)  # Remove emails\n",
    "    text = re.sub(r\"[^a-z\\s]\", \"\", text)  # Keep only letters & spaces\n",
    "    text = re.sub(r\"\\s+\", \" \", text).strip()\n",
    "    return text\n",
    "\n",
    "# Apply to dataset\n",
    "df['comment_text'] = df['comment_text'].apply(clean_text)\n"
   ],
   "id": "5631e88f88f8abc7",
   "outputs": [],
   "execution_count": 14
  },
  {
   "metadata": {
    "ExecuteTime": {
     "end_time": "2025-08-14T17:42:32.619674Z",
     "start_time": "2025-08-14T17:42:32.152508Z"
    }
   },
   "cell_type": "code",
   "source": [
    "df['comment_length'] = df['comment_text'].apply(lambda x: len(x.split()))\n",
    "plt.hist(df['comment_length'], bins=50)\n",
    "plt.title(\"Comment Length Distribution\")\n",
    "plt.xlabel(\"Words per comment\")\n",
    "plt.ylabel(\"Frequency\")\n",
    "plt.show()\n"
   ],
   "id": "f7aeb2cff33913f7",
   "outputs": [
    {
     "data": {
      "text/plain": [
       "<Figure size 640x480 with 1 Axes>"
      ],
      "image/png": "[encoded data removed]"
     },
     "metadata": {},
     "output_type": "display_data"
    }
   ],
   "execution_count": 15
  },
  {
   "metadata": {
    "ExecuteTime": {
     "end_time": "2025-08-14T17:42:32.796674Z",
     "start_time": "2025-08-14T17:42:32.699058Z"
    }
   },
   "cell_type": "code",
   "source": [
    "from sklearn.model_selection import train_test_split\n",
    "\n",
    "train_df, temp_df = train_test_split(df, test_size=0.2, random_state=42)\n",
    "val_df, test_df = train_test_split(temp_df, test_size=0.5, random_state=42)\n",
    "\n",
    "print(len(train_df), len(val_df), len(test_df))\n"
   ],
   "id": "f48091cc601163ef",
   "outputs": [
    {
     "name": "stdout",
     "output_type": "stream",
     "text": [
      "127656 15957 15958\n"
     ]
    }
   ],
   "execution_count": 16
  },
  {
   "metadata": {
    "ExecuteTime": {
     "end_time": "2025-08-14T17:42:46.123758Z",
     "start_time": "2025-08-14T17:42:32.802447Z"
    }
   },
   "cell_type": "code",
   "source": [
    "import torch\n",
    "from torch.utils.data import Dataset, DataLoader\n",
    "from transformers import DistilBertTokenizerFast\n",
    "import torch.nn as nn\n",
    "\n",
    "tokenizer = DistilBertTokenizerFast.from_pretrained('distilbert-base-uncased')\n",
    "\n",
    "def tokenize_data(df, max_len=128):\n",
    "    return tokenizer(\n",
    "        list(df['comment_text']),\n",
    "        truncation=True,\n",
    "        padding='max_length',\n",
    "        max_length=max_len,\n",
    "        return_tensors='pt'\n",
    "    )\n",
    "\n",
    "train_encodings = tokenize_data(train_df)\n",
    "val_encodings = tokenize_data(val_df)\n",
    "test_encodings = tokenize_data(test_df)"
   ],
   "id": "4130b7e127693d5c",
   "outputs": [],
   "execution_count": 17
  },
  {
   "metadata": {
    "ExecuteTime": {
     "end_time": "2025-08-14T17:42:46.237296Z",
     "start_time": "2025-08-14T17:42:46.220637Z"
    }
   },
   "cell_type": "code",
   "source": [
    "class ToxicDataset(Dataset):\n",
    "    def __init__(self, encodings, labels):\n",
    "        self.encodings = encodings\n",
    "        self.labels = torch.tensor(labels.values, dtype=torch.float32)\n",
    "\n",
    "    def __len__(self):\n",
    "        return len(self.labels)\n",
    "\n",
    "    def __getitem__(self, idx):\n",
    "        item = {key: val[idx] for key, val in self.encodings.items()}\n",
    "        item['labels'] = self.labels[idx]\n",
    "        return item\n",
    "\n",
    "label_cols = ['toxic', 'severe_toxic', 'obscene', 'threat', 'insult', 'identity_hate']\n",
    "\n",
    "train_dataset = ToxicDataset(train_encodings, train_df[label_cols])\n",
    "val_dataset = ToxicDataset(val_encodings, val_df[label_cols])\n",
    "test_dataset = ToxicDataset(test_encodings, test_df[label_cols])"
   ],
   "id": "3667fb2180666b63",
   "outputs": [],
   "execution_count": 18
  },
  {
   "metadata": {
    "ExecuteTime": {
     "end_time": "2025-08-14T17:42:46.246414Z",
     "start_time": "2025-08-14T17:42:46.241304Z"
    }
   },
   "cell_type": "code",
   "source": [
    "class ToxicClassifier(nn.Module):\n",
    "    def __init__(self):\n",
    "        super(ToxicClassifier, self).__init__()\n",
    "        self.bert = DistilBertModel.from_pretrained('distilbert-base-uncased')\n",
    "        self.dropout = nn.Dropout(0.3)\n",
    "        self.classifier = nn.Linear(self.bert.config.hidden_size, len(label_cols))\n",
    "\n",
    "    def forward(self, input_ids, attention_mask):\n",
    "        outputs = self.bert(input_ids=input_ids, attention_mask=attention_mask)\n",
    "        hidden_state = outputs.last_hidden_state  # (batch_size, seq_len, hidden_size)\n",
    "        pooled_output = hidden_state[:, 0]  # [CLS] token\n",
    "        pooled_output = self.dropout(pooled_output)\n",
    "        logits = self.classifier(pooled_output)\n",
    "        return logits"
   ],
   "id": "6844b531bb051ce9",
   "outputs": [],
   "execution_count": 19
  },
  {
   "metadata": {
    "ExecuteTime": {
     "end_time": "2025-08-14T17:42:46.256443Z",
     "start_time": "2025-08-14T17:42:46.251808Z"
    }
   },
   "cell_type": "code",
   "source": [
    "train_loader = DataLoader(train_dataset, batch_size=32, shuffle=True)\n",
    "val_loader = DataLoader(val_dataset, batch_size=32)\n",
    "test_loader = DataLoader(test_dataset, batch_size=32)\n"
   ],
   "id": "32c1c6a3f9ae6597",
   "outputs": [],
   "execution_count": 20
  },
  {
   "metadata": {
    "ExecuteTime": {
     "end_time": "2025-08-14T16:18:54.950432Z",
     "start_time": "2025-08-14T16:18:52.556377Z"
    }
   },
   "cell_type": "code",
   "source": [
    "device = torch.device('cuda') if torch.cuda.is_available() else torch.device('cpu')\n",
    "model = ToxicClassifier().to(device)"
   ],
   "id": "5335171eb761b6be",
   "outputs": [],
   "execution_count": 10
  },
  {
   "metadata": {
    "ExecuteTime": {
     "start_time": "2025-08-14T16:18:54.999353Z"
    }
   },
   "cell_type": "code",
   "source": [
    "from transformers import get_scheduler\n",
    "import torch\n",
    "from tqdm import tqdm\n",
    "\n",
    "criterion = nn.BCEWithLogitsLoss()  # Multi-label classification\n",
    "optimizer = torch.optim.AdamW(model.parameters(), lr=2e-5)\n",
    "\n",
    "epochs = 30\n",
    "patience = 2  # early stopping patience\n",
    "best_val_loss = float('inf')\n",
    "early_stop_counter = 0\n",
    "\n",
    "# Scheduler\n",
    "num_training_steps = epochs * len(train_loader)\n",
    "scheduler = get_scheduler(\"linear\", optimizer=optimizer, num_warmup_steps=0, num_training_steps=num_training_steps)\n",
    "\n",
    "for epoch in range(epochs):\n",
    "    model.train()\n",
    "    train_loss = 0\n",
    "\n",
    "    loop = tqdm(train_loader, leave=True)\n",
    "    for batch in loop:\n",
    "        input_ids = batch['input_ids'].to(device)\n",
    "        attention_mask = batch['attention_mask'].to(device)\n",
    "        labels = batch['labels'].to(device)\n",
    "\n",
    "        optimizer.zero_grad()\n",
    "        outputs = model(input_ids, attention_mask)\n",
    "        loss = criterion(outputs, labels)\n",
    "        loss.backward()\n",
    "        optimizer.step()\n",
    "        scheduler.step()  # update LR\n",
    "\n",
    "        train_loss += loss.item()\n",
    "        loop.set_description(f'Epoch {epoch+1}')\n",
    "        loop.set_postfix(loss=loss.item())\n",
    "\n",
    "    avg_train_loss = train_loss / len(train_loader)\n",
    "    print(f\"Epoch {epoch+1} average loss: {avg_train_loss:.4f}\")\n",
    "\n",
    "    # Validation\n",
    "    model.eval()\n",
    "    val_loss = 0\n",
    "    with torch.no_grad():\n",
    "        for batch in val_loader:\n",
    "            input_ids = batch['input_ids'].to(device)\n",
    "            attention_mask = batch['attention_mask'].to(device)\n",
    "            labels = batch['labels'].to(device)\n",
    "\n",
    "            outputs = model(input_ids, attention_mask)\n",
    "            loss = criterion(outputs, labels)\n",
    "            val_loss += loss.item()\n",
    "\n",
    "    avg_val_loss = val_loss / len(val_loader)\n",
    "    print(f\"Epoch {epoch+1} validation loss: {avg_val_loss:.4f}\")\n",
    "\n",
    "    # Early Stopping\n",
    "    if avg_val_loss < best_val_loss:\n",
    "        best_val_loss = avg_val_loss\n",
    "        early_stop_counter = 0\n",
    "        torch.save(model.state_dict(), \"best_toxicity_model.pt\")\n",
    "        print(\"✅ Model improved. Saved.\")\n",
    "    else:\n",
    "        early_stop_counter += 1\n",
    "        print(f\"⚠ No improvement. Early stop counter: {early_stop_counter}/{patience}\")\n",
    "        if early_stop_counter >= patience:\n",
    "            print(\"⛔ Early stopping triggered.\")\n",
    "            break\n"
   ],
   "id": "54d771df3eb94869",
   "outputs": [
    {
     "name": "stderr",
     "output_type": "stream",
     "text": [
      "Epoch 1: 100%|██████████| 3990/3990 [21:03<00:00,  3.16it/s, loss=0.00142]\n"
     ]
    },
    {
     "name": "stdout",
     "output_type": "stream",
     "text": [
      "Epoch 1 average loss: 0.0501\n",
      "Epoch 1 validation loss: 0.0395\n",
      "✅ Model improved. Saved.\n"
     ]
    },
    {
     "name": "stderr",
     "output_type": "stream",
     "text": [
      "Epoch 2: 100%|██████████| 3990/3990 [21:40<00:00,  3.07it/s, loss=0.105]   \n"
     ]
    },
    {
     "name": "stdout",
     "output_type": "stream",
     "text": [
      "Epoch 2 average loss: 0.0350\n",
      "Epoch 2 validation loss: 0.0395\n",
      "⚠ No improvement. Early stop counter: 1/2\n"
     ]
    },
    {
     "name": "stderr",
     "output_type": "stream",
     "text": [
      "Epoch 3:  36%|███▌      | 1428/3990 [12:20<12:33,  3.40it/s, loss=0.0171]    "
     ]
    }
   ],
   "execution_count": null
  },
  {
   "metadata": {
    "ExecuteTime": {
     "end_time": "2025-08-14T17:43:40.724931Z",
     "start_time": "2025-08-14T17:42:52.625660Z"
    }
   },
   "cell_type": "code",
   "source": [
    "import torch\n",
    "from sklearn.metrics import accuracy_score, f1_score, precision_score, recall_score, roc_auc_score\n",
    "from torch.utils.data import DataLoader\n",
    "\n",
    "# Make sure label_cols is defined\n",
    "label_cols = ['toxic', 'severe_toxic', 'obscene', 'threat', 'insult', 'identity_hate']\n",
    "\n",
    "# Device\n",
    "device = torch.device('cuda') if torch.cuda.is_available() else torch.device('cpu')\n",
    "\n",
    "# 1️⃣ Load the saved model (same class as training)\n",
    "from transformers import DistilBertModel\n",
    "import torch.nn as nn\n",
    "\n",
    "\n",
    "class ToxicClassifier(nn.Module):\n",
    "    def __init__(self):\n",
    "        super(ToxicClassifier, self).__init__()\n",
    "        self.bert = DistilBertModel.from_pretrained('distilbert-base-uncased')\n",
    "        self.dropout = nn.Dropout(0.3)\n",
    "        self.classifier = nn.Linear(self.bert.config.hidden_size, len(label_cols))\n",
    "\n",
    "    def forward(self, input_ids, attention_mask):\n",
    "        outputs = self.bert(input_ids=input_ids, attention_mask=attention_mask)\n",
    "        hidden_state = outputs.last_hidden_state\n",
    "        pooled_output = hidden_state[:, 0]  # CLS token\n",
    "        pooled_output = self.dropout(pooled_output)\n",
    "        logits = self.classifier(pooled_output)\n",
    "        return logits\n",
    "\n",
    "\n",
    "model = ToxicClassifier()\n",
    "model.load_state_dict(torch.load(\"best_toxicity_model.pt\"))\n",
    "model.to(device)\n",
    "model.eval()\n",
    "\n",
    "# 2️⃣ Prepare test loader (if not already done)\n",
    "test_loader = DataLoader(test_dataset, batch_size=32)\n",
    "\n",
    "# 3️⃣ Run predictions\n",
    "all_labels = []\n",
    "all_preds = []\n",
    "\n",
    "with torch.no_grad():\n",
    "    for batch in test_loader:\n",
    "        input_ids = batch['input_ids'].to(device)\n",
    "        attention_mask = batch['attention_mask'].to(device)\n",
    "        labels = batch['labels'].cpu().numpy()\n",
    "\n",
    "        outputs = model(input_ids, attention_mask)\n",
    "        preds = torch.sigmoid(outputs).cpu().numpy()  # sigmoid for multi-label\n",
    "\n",
    "        all_labels.append(labels)\n",
    "        all_preds.append(preds)\n",
    "\n",
    "import numpy as np\n",
    "\n",
    "all_labels = np.vstack(all_labels)\n",
    "all_preds = np.vstack(all_preds)\n",
    "\n",
    "# Convert probabilities to binary predictions (threshold = 0.5)\n",
    "binary_preds = (all_preds >= 0.5).astype(int)\n",
    "\n",
    "# 4️⃣ Calculate metrics per label\n",
    "for i, label in enumerate(label_cols):\n",
    "    print(f\"--- {label} ---\")\n",
    "    print(\"Accuracy: \", accuracy_score(all_labels[:, i], binary_preds[:, i]))\n",
    "    print(\"F1-score:\", f1_score(all_labels[:, i], binary_preds[:, i]))\n",
    "    print(\"Precision:\", precision_score(all_labels[:, i], binary_preds[:, i]))\n",
    "    print(\"Recall:\", recall_score(all_labels[:, i], binary_preds[:, i]))\n",
    "    print(\"ROC-AUC:\", roc_auc_score(all_labels[:, i], all_preds[:, i]))\n",
    "    print()\n",
    "\n",
    "# 5️⃣ Overall metrics (micro and macro)\n",
    "print(\"Micro F1-score:\", f1_score(all_labels, binary_preds, average='micro'))\n",
    "print(\"Macro F1-score:\", f1_score(all_labels, binary_preds, average='macro'))\n"
   ],
   "id": "c88ca5c1259dcc60",
   "outputs": [
    {
     "name": "stderr",
     "output_type": "stream",
     "text": [
      "C:\\Users\\anmol\\AppData\\Local\\Temp\\ipykernel_18948\\1210271227.py:33: FutureWarning: You are using `torch.load` with `weights_only=False` (the current default value), which uses the default pickle module implicitly. It is possible to construct malicious pickle data which will execute arbitrary code during unpickling (See https://github.com/pytorch/pytorch/blob/main/SECURITY.md#untrusted-models for more details). In a future release, the default value for `weights_only` will be flipped to `True`. This limits the functions that could be executed during unpickling. Arbitrary objects will no longer be allowed to be loaded via this mode unless they are explicitly allowlisted by the user via `torch.serialization.add_safe_globals`. We recommend you start setting `weights_only=True` for any use case where you don't have full control of the loaded file. Please open an issue on GitHub for any issues related to this experimental feature.\n",
      "  model.load_state_dict(torch.load(\"best_toxicity_model.pt\"))\n"
     ]
    },
    {
     "name": "stdout",
     "output_type": "stream",
     "text": [
      "--- toxic ---\n",
      "Accuracy:  0.9679157789196641\n",
      "F1-score: 0.819718309859155\n",
      "Precision: 0.8818181818181818\n",
      "Recall: 0.7657894736842106\n",
      "ROC-AUC: 0.9866478991841704\n",
      "\n",
      "--- severe_toxic ---\n",
      "Accuracy:  0.9904123323724777\n",
      "F1-score: 0.2679425837320574\n",
      "Precision: 0.5957446808510638\n",
      "Recall: 0.1728395061728395\n",
      "ROC-AUC: 0.9903991946703181\n",
      "\n",
      "--- obscene ---\n",
      "Accuracy:  0.9823286126080962\n",
      "F1-score: 0.8292978208232445\n",
      "Precision: 0.8605527638190955\n",
      "Recall: 0.8002336448598131\n",
      "ROC-AUC: 0.9917750882782129\n",
      "\n",
      "--- threat ---\n",
      "Accuracy:  0.9979320716881814\n",
      "F1-score: 0.4406779661016949\n",
      "Precision: 0.5909090909090909\n",
      "Recall: 0.35135135135135137\n",
      "ROC-AUC: 0.9948920090242871\n",
      "\n",
      "--- insult ---\n",
      "Accuracy:  0.9776287755357814\n",
      "F1-score: 0.771884984025559\n",
      "Precision: 0.797886393659181\n",
      "Recall: 0.7475247524752475\n",
      "ROC-AUC: 0.9903189638270757\n",
      "\n",
      "--- identity_hate ---\n",
      "Accuracy:  0.9931695701215691\n",
      "F1-score: 0.502283105022831\n",
      "Precision: 0.6790123456790124\n",
      "Recall: 0.39855072463768115\n",
      "ROC-AUC: 0.9860983620073653\n",
      "\n",
      "Micro F1-score: 0.7790342298288508\n",
      "Macro F1-score: 0.6053007949274237\n"
     ]
    }
   ],
   "execution_count": 21
  },
  {
   "metadata": {
    "ExecuteTime": {
     "end_time": "2025-08-14T17:48:26.525563Z",
     "start_time": "2025-08-14T17:48:26.463710Z"
    }
   },
   "cell_type": "code",
   "source": [
    "import torch\n",
    "import torch.nn.functional as F\n",
    "\n",
    "def predict_toxicity(comment, model, tokenizer, device, threshold=0.5):\n",
    "    # 1️⃣ Clean the comment (reuse your clean_text function)\n",
    "    comment = clean_text(comment)\n",
    "\n",
    "    # 2️⃣ Tokenize\n",
    "    enc = tokenizer(comment, truncation=True, padding='max_length', max_length=128, return_tensors='pt')\n",
    "    input_ids = enc['input_ids'].to(device)\n",
    "    attention_mask = enc['attention_mask'].to(device)\n",
    "\n",
    "    # 3️⃣ Model prediction\n",
    "    model.eval()\n",
    "    with torch.no_grad():\n",
    "        outputs = model(input_ids, attention_mask)\n",
    "        probs = torch.sigmoid(outputs).squeeze().cpu().numpy()\n",
    "\n",
    "    # 4️⃣ Prepare clean output\n",
    "    label_cols = ['toxic', 'severe_toxic', 'obscene', 'threat', 'insult', 'identity_hate']\n",
    "    result = {}\n",
    "    for i, label in enumerate(label_cols):\n",
    "        pred = int(probs[i] >= threshold)\n",
    "        result[label] = {\"prob\": float(probs[i]), \"pred\": pred, \"label\": \"Yes\" if pred else \"No\"}\n",
    "\n",
    "    # 5️⃣ Print neatly\n",
    "    print(f\"\\nComment: {comment}\\n\")\n",
    "    for label in label_cols:\n",
    "        print(f\"{label:15}: {result[label]['label']:3} (prob: {result[label]['prob']:.2f})\")\n",
    "\n",
    "    return result\n",
    "\n",
    "comment = \"you piece of shit!\"\n",
    "predict_toxicity(comment, model, tokenizer, device)\n"
   ],
   "id": "6c94dc35d7819f74",
   "outputs": [
    {
     "name": "stdout",
     "output_type": "stream",
     "text": [
      "\n",
      "Comment: you peice of shit\n",
      "\n",
      "toxic          : Yes (prob: 0.98)\n",
      "severe_toxic   : No  (prob: 0.07)\n",
      "obscene        : Yes (prob: 0.90)\n",
      "threat         : No  (prob: 0.01)\n",
      "insult         : Yes (prob: 0.78)\n",
      "identity_hate  : No  (prob: 0.01)\n"
     ]
    },
    {
     "data": {
      "text/plain": [
       "{'toxic': {'prob': 0.983859658241272, 'pred': 1, 'label': 'Yes'},\n",
       " 'severe_toxic': {'prob': 0.06879701465368271, 'pred': 0, 'label': 'No'},\n",
       " 'obscene': {'prob': 0.9023116230964661, 'pred': 1, 'label': 'Yes'},\n",
       " 'threat': {'prob': 0.005150164477527142, 'pred': 0, 'label': 'No'},\n",
       " 'insult': {'prob': 0.7836145758628845, 'pred': 1, 'label': 'Yes'},\n",
       " 'identity_hate': {'prob': 0.01201742421835661, 'pred': 0, 'label': 'No'}}"
      ]
     },
     "execution_count": 27,
     "metadata": {},
     "output_type": "execute_result"
    }
   ],
   "execution_count": 27
  },
  {
   "metadata": {
    "ExecuteTime": {
     "end_time": "2025-08-14T17:47:02.973097Z",
     "start_time": "2025-08-14T17:47:02.912858Z"
    }
   },
   "cell_type": "code",
   "source": [
    "my_comment = \"I hate you and you are awful!\"\n",
    "print(my_comment)\n",
    "predict_toxicity(my_comment, model, tokenizer, device)\n"
   ],
   "id": "619b268541408fe6",
   "outputs": [
    {
     "name": "stdout",
     "output_type": "stream",
     "text": [
      "I hate you and you are awful!\n"
     ]
    },
    {
     "data": {
      "text/plain": [
       "{'toxic': {'prob': 0.92925614, 'pred': 1},\n",
       " 'severe_toxic': {'prob': 0.009598553, 'pred': 0},\n",
       " 'obscene': {'prob': 0.053453792, 'pred': 0},\n",
       " 'threat': {'prob': 0.017813405, 'pred': 0},\n",
       " 'insult': {'prob': 0.38485777, 'pred': 0},\n",
       " 'identity_hate': {'prob': 0.014189898, 'pred': 0}}"
      ]
     },
     "execution_count": 25,
     "metadata": {},
     "output_type": "execute_result"
    }
   ],
   "execution_count": 25
  }
 ],
 "metadata": {
  "kernelspec": {
   "display_name": "Python 3",
   "language": "python",
   "name": "python3"
  },
  "language_info": {
   "codemirror_mode": {
    "name": "ipython",
    "version": 2
   },
   "file_extension": ".py",
   "mimetype": "text/x-python",
   "name": "python",
   "nbconvert_exporter": "python",
   "pygments_lexer": "ipython2",
   "version": "2.7.6"
  }
 },
 "nbformat": 4,
 "nbformat_minor": 5
}
