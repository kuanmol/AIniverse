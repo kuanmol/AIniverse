{
 "cells": [
  {
   "cell_type": "code",
   "id": "initial_id",
   "metadata": {
    "ExecuteTime": {
     "end_time": "2025-08-14T18:16:12.416226Z",
     "start_time": "2025-08-14T18:16:03.190635Z"
    }
   },
   "source": [
    "# train_gru.py\n",
    "\n",
    "import pandas as pd\n",
    "import torch\n",
    "from torch.utils.data import Dataset, DataLoader\n",
    "import torch.nn as nn\n",
    "import torch.optim as optim\n",
    "from sklearn.model_selection import train_test_split\n",
    "from sklearn.metrics import f1_score, accuracy_score, roc_auc_score\n",
    "import re\n",
    "import html\n",
    "from tqdm import tqdm\n",
    "\n",
    "# ----------------------------\n",
    "# 1️⃣ Load & clean dataset\n",
    "# ----------------------------\n",
    "df = pd.read_csv(r\"R:\\AIniverse\\PROJECTS\\mainstream\\senti\\data\\train.csv\\train.csv\")  # path to your CSV\n",
    "\n",
    "label_cols = ['toxic', 'severe_toxic', 'obscene', 'threat', 'insult', 'identity_hate']\n",
    "\n",
    "def clean_text(text):\n",
    "    text = str(text)\n",
    "    text = html.unescape(text)\n",
    "    text = text.lower()\n",
    "    text = re.sub(r\"http\\S+|www\\S+|https\\S+\", \"\", text)\n",
    "    text = re.sub(r\"\\S+@\\S+\", \"\", text)\n",
    "    text = re.sub(r\"[^a-z\\s]\", \"\", text)\n",
    "    text = re.sub(r\"\\s+\", \" \", text).strip()\n",
    "    return text\n",
    "\n",
    "df['comment_text'] = df['comment_text'].apply(clean_text)\n",
    "\n",
    "train_df, temp_df = train_test_split(df, test_size=0.2, random_state=42)\n",
    "val_df, test_df = train_test_split(temp_df, test_size=0.5, random_state=42)\n",
    "\n",
    "# ----------------------------\n",
    "# 2️⃣ Build vocabulary\n",
    "# ----------------------------\n",
    "from collections import Counter\n",
    "from itertools import chain\n",
    "\n",
    "all_text = list(train_df['comment_text'])\n",
    "counter = Counter(chain.from_iterable([x.split() for x in all_text]))\n",
    "vocab = {w:i+2 for i,(w,c) in enumerate(counter.most_common())}  # +2 for PAD=0, UNK=1\n",
    "vocab['<PAD>'] = 0\n",
    "vocab['<UNK>'] = 1\n",
    "vocab_size = len(vocab)\n",
    "\n",
    "def encode_text(text, max_len=128):\n",
    "    tokens = [vocab.get(w,1) for w in text.split()]\n",
    "    if len(tokens) < max_len:\n",
    "        tokens += [0]*(max_len-len(tokens))\n",
    "    else:\n",
    "        tokens = tokens[:max_len]\n",
    "    return tokens\n",
    "# Build vocabulary from training comments\n",
    "from collections import Counter\n",
    "import torch\n",
    "\n",
    "all_text = \" \".join(train_df['comment_text'].tolist())\n",
    "words = all_text.split()\n",
    "word_counts = Counter(words)\n",
    "\n",
    "# Create vocab: word -> index (0=padding, 1=unknown)\n",
    "vocab = {\"<PAD>\":0, \"<UNK>\":1}\n",
    "for i, word in enumerate(word_counts.keys(), start=2):\n",
    "    vocab[word] = i\n",
    "\n",
    "# Save vocab\n",
    "torch.save(vocab, \"gru_vocab.pt\")  # or bilstm_vocab.pt / transformer_vocab.pt\n"
   ],
   "outputs": [],
   "execution_count": 6
  },
  {
   "metadata": {},
   "cell_type": "code",
   "outputs": [],
   "execution_count": 1,
   "source": [
    "\n",
    "# ----------------------------\n",
    "# 3️⃣ Dataset class\n",
    "# ----------------------------\n",
    "class ToxicDataset(Dataset):\n",
    "    def __init__(self, df):\n",
    "        self.texts = [encode_text(x) for x in df['comment_text']]\n",
    "        self.labels = torch.tensor(df[label_cols].values, dtype=torch.float32)\n",
    "    def __len__(self):\n",
    "        return len(self.labels)\n",
    "    def __getitem__(self, idx):\n",
    "        return {'input_ids': torch.tensor(self.texts[idx], dtype=torch.long),\n",
    "                'labels': self.labels[idx]}\n",
    "\n",
    "train_dataset = ToxicDataset(train_df)\n",
    "val_dataset = ToxicDataset(val_df)\n",
    "test_dataset = ToxicDataset(test_df)\n",
    "\n",
    "train_loader = DataLoader(train_dataset, batch_size=32, shuffle=True)\n",
    "val_loader = DataLoader(val_dataset, batch_size=32)\n",
    "test_loader = DataLoader(test_dataset, batch_size=32)"
   ],
   "id": "521e4aadf0b76ffd"
  },
  {
   "metadata": {
    "ExecuteTime": {
     "end_time": "2025-08-14T18:11:04.904980Z",
     "start_time": "2025-08-14T18:06:02.596344Z"
    }
   },
   "cell_type": "code",
   "source": [
    "\n",
    "# ----------------------------\n",
    "# 4️⃣ GRU + Attention Model\n",
    "# ----------------------------\n",
    "class AttentionGRU(nn.Module):\n",
    "    def __init__(self, vocab_size, embed_dim=128, hidden_dim=128, output_dim=6):\n",
    "        super().__init__()\n",
    "        self.embedding = nn.Embedding(vocab_size, embed_dim, padding_idx=0)\n",
    "        self.gru = nn.GRU(embed_dim, hidden_dim, batch_first=True, bidirectional=True)\n",
    "        self.attn = nn.Linear(hidden_dim*2, 1)\n",
    "        self.dropout = nn.Dropout(0.3)\n",
    "        self.fc = nn.Linear(hidden_dim*2, output_dim)\n",
    "\n",
    "    def forward(self, input_ids):\n",
    "        x = self.embedding(input_ids)\n",
    "        gru_out, _ = self.gru(x)\n",
    "        attn_weights = torch.softmax(self.attn(gru_out).squeeze(-1), dim=1).unsqueeze(-1)\n",
    "        weighted = gru_out * attn_weights\n",
    "        pooled = weighted.sum(1)\n",
    "        out = self.dropout(pooled)\n",
    "        return self.fc(out)\n",
    "\n",
    "device = torch.device('cuda' if torch.cuda.is_available() else 'cpu')\n",
    "model = AttentionGRU(vocab_size).to(device)\n",
    "\n",
    "criterion = nn.BCEWithLogitsLoss()\n",
    "optimizer = optim.Adam(model.parameters(), lr=2e-3)\n",
    "\n",
    "# ----------------------------\n",
    "# 5️⃣ Training with Early Stopping\n",
    "# ----------------------------\n",
    "epochs = 20\n",
    "patience = 3\n",
    "best_val_loss = float('inf')\n",
    "early_stop_counter = 0\n",
    "\n",
    "for epoch in range(epochs):\n",
    "    model.train()\n",
    "    train_loss = 0\n",
    "    loop = tqdm(train_loader, leave=True)\n",
    "    for batch in loop:\n",
    "        optimizer.zero_grad()\n",
    "        input_ids = batch['input_ids'].to(device)\n",
    "        labels = batch['labels'].to(device)\n",
    "        outputs = model(input_ids)\n",
    "        loss = criterion(outputs, labels)\n",
    "        loss.backward()\n",
    "        optimizer.step()\n",
    "        train_loss += loss.item()\n",
    "        loop.set_postfix(loss=loss.item())\n",
    "\n",
    "    avg_train_loss = train_loss/len(train_loader)\n",
    "\n",
    "    # Validation\n",
    "    model.eval()\n",
    "    val_loss = 0\n",
    "    with torch.no_grad():\n",
    "        for batch in val_loader:\n",
    "            input_ids = batch['input_ids'].to(device)\n",
    "            labels = batch['labels'].to(device)\n",
    "            outputs = model(input_ids)\n",
    "            loss = criterion(outputs, labels)\n",
    "            val_loss += loss.item()\n",
    "    avg_val_loss = val_loss/len(val_loader)\n",
    "    print(f\"Epoch {epoch+1}: Train Loss {avg_train_loss:.4f}, Val Loss {avg_val_loss:.4f}\")\n",
    "\n",
    "    if avg_val_loss < best_val_loss:\n",
    "        best_val_loss = avg_val_loss\n",
    "        early_stop_counter = 0\n",
    "        torch.save(model.state_dict(), \"gru_toxic_model.pt\")\n",
    "        print(\"✅ Model improved. Saved.\")\n",
    "    else:\n",
    "        early_stop_counter +=1\n",
    "        if early_stop_counter>=patience:\n",
    "            print(\"⛔ Early stopping triggered.\")\n",
    "            break"
   ],
   "id": "7fd6777bcd044ea3",
   "outputs": [
    {
     "name": "stderr",
     "output_type": "stream",
     "text": [
      "100%|██████████| 3990/3990 [01:14<00:00, 53.49it/s, loss=0.0019] \n"
     ]
    },
    {
     "name": "stdout",
     "output_type": "stream",
     "text": [
      "Epoch 1: Train Loss 0.0614, Val Loss 0.0494\n",
      "✅ Model improved. Saved.\n"
     ]
    },
    {
     "name": "stderr",
     "output_type": "stream",
     "text": [
      "100%|██████████| 3990/3990 [01:13<00:00, 53.98it/s, loss=0.1]    \n"
     ]
    },
    {
     "name": "stdout",
     "output_type": "stream",
     "text": [
      "Epoch 2: Train Loss 0.0425, Val Loss 0.0509\n"
     ]
    },
    {
     "name": "stderr",
     "output_type": "stream",
     "text": [
      "100%|██████████| 3990/3990 [01:13<00:00, 54.09it/s, loss=0.00262] \n"
     ]
    },
    {
     "name": "stdout",
     "output_type": "stream",
     "text": [
      "Epoch 3: Train Loss 0.0341, Val Loss 0.0497\n"
     ]
    },
    {
     "name": "stderr",
     "output_type": "stream",
     "text": [
      "100%|██████████| 3990/3990 [01:13<00:00, 54.07it/s, loss=0.00633] \n"
     ]
    },
    {
     "name": "stdout",
     "output_type": "stream",
     "text": [
      "Epoch 4: Train Loss 0.0289, Val Loss 0.0556\n",
      "⛔ Early stopping triggered.\n"
     ]
    }
   ],
   "execution_count": 2
  },
  {
   "metadata": {
    "ExecuteTime": {
     "end_time": "2025-08-14T18:11:14.044480Z",
     "start_time": "2025-08-14T18:11:12.631646Z"
    }
   },
   "cell_type": "code",
   "source": [
    "\n",
    "# ----------------------------\n",
    "# 6️⃣ Evaluation\n",
    "# ----------------------------\n",
    "model.load_state_dict(torch.load(\"gru_toxic_model.pt\"))\n",
    "model.eval()\n",
    "all_labels = []\n",
    "all_preds = []\n",
    "with torch.no_grad():\n",
    "    for batch in test_loader:\n",
    "        input_ids = batch['input_ids'].to(device)\n",
    "        labels = batch['labels'].cpu().numpy()\n",
    "        outputs = torch.sigmoid(model(batch['input_ids'].to(device))).cpu().numpy()\n",
    "        preds = (outputs>0.5).astype(int)\n",
    "        all_labels.append(labels)\n",
    "        all_preds.append(preds)\n",
    "\n",
    "import numpy as np\n",
    "all_labels = np.vstack(all_labels)\n",
    "all_preds = np.vstack(all_preds)\n",
    "\n",
    "for i,col in enumerate(label_cols):\n",
    "    print(f\"--- {col} ---\")\n",
    "    print(\"Accuracy: \", (all_labels[:,i]==all_preds[:,i]).mean())\n",
    "    print(\"F1-score:\", f1_score(all_labels[:,i], all_preds[:,i]))\n",
    "    print(\"ROC-AUC:\", roc_auc_score(all_labels[:,i], all_preds[:,i]))\n"
   ],
   "id": "83787965d577b74c",
   "outputs": [
    {
     "name": "stderr",
     "output_type": "stream",
     "text": [
      "C:\\Users\\anmol\\AppData\\Local\\Temp\\ipykernel_9544\\661818755.py:4: FutureWarning: You are using `torch.load` with `weights_only=False` (the current default value), which uses the default pickle module implicitly. It is possible to construct malicious pickle data which will execute arbitrary code during unpickling (See https://github.com/pytorch/pytorch/blob/main/SECURITY.md#untrusted-models for more details). In a future release, the default value for `weights_only` will be flipped to `True`. This limits the functions that could be executed during unpickling. Arbitrary objects will no longer be allowed to be loaded via this mode unless they are explicitly allowlisted by the user via `torch.serialization.add_safe_globals`. We recommend you start setting `weights_only=True` for any use case where you don't have full control of the loaded file. Please open an issue on GitHub for any issues related to this experimental feature.\n",
      "  model.load_state_dict(torch.load(\"gru_toxic_model.pt\"))\n"
     ]
    },
    {
     "name": "stdout",
     "output_type": "stream",
     "text": [
      "--- toxic ---\n",
      "Accuracy:  0.9621506454442913\n",
      "F1-score: 0.789839944328462\n",
      "ROC-AUC: 0.865771110228126\n",
      "--- severe_toxic ---\n",
      "Accuracy:  0.9897230229352049\n",
      "F1-score: 0.3643410852713178\n",
      "ROC-AUC: 0.6435107028189665\n",
      "--- obscene ---\n",
      "Accuracy:  0.9791953878932197\n",
      "F1-score: 0.7950617283950617\n",
      "ROC-AUC: 0.8721952405882986\n",
      "--- threat ---\n",
      "Accuracy:  0.9977440782052889\n",
      "F1-score: 0.18181818181818182\n",
      "ROC-AUC: 0.5539598388665659\n",
      "--- insult ---\n",
      "Accuracy:  0.9733049254292517\n",
      "F1-score: 0.7283163265306123\n",
      "ROC-AUC: 0.8471039603960395\n",
      "--- identity_hate ---\n",
      "Accuracy:  0.9922922672014037\n",
      "F1-score: 0.3128491620111732\n",
      "ROC-AUC: 0.6010384030487916\n"
     ]
    }
   ],
   "execution_count": 3
  },
  {
   "metadata": {},
   "cell_type": "code",
   "source": [
    "import torch\n",
    "import torch.nn.functional as F\n",
    "\n",
    "label_cols = ['toxic', 'severe_toxic', 'obscene', 'threat', 'insult', 'identity_hate']\n",
    "\n",
    "def predict_toxicity(comment, model, vocab, device, threshold=0.5):\n",
    "    # 1️⃣ Clean comment\n",
    "    comment_clean = clean_text(comment)\n",
    "\n",
    "    # 2️⃣ Encode using vocab\n",
    "    tokens = [vocab.get(w,1) for w in comment_clean.split()]\n",
    "    if len(tokens) < 128:\n",
    "        tokens += [0]*(128 - len(tokens))\n",
    "    else:\n",
    "        tokens = tokens[:128]\n",
    "    input_ids = torch.tensor(tokens).unsqueeze(0).to(device)\n",
    "\n",
    "    # 3️⃣ Model prediction\n",
    "    model.eval()\n",
    "    with torch.no_grad():\n",
    "        logits = model(input_ids)\n",
    "        probs = torch.sigmoid(logits).squeeze().cpu().numpy()\n",
    "\n",
    "    # 4️⃣ Prepare clean output\n",
    "    result = {}\n",
    "    for i, label in enumerate(label_cols):\n",
    "        pred = int(probs[i] >= threshold)\n",
    "        result[label] = {\"prob\": float(probs[i]), \"pred\": pred, \"label\": \"Yes\" if pred else \"No\"}\n",
    "\n",
    "    # 5️⃣ Print neatly\n",
    "    print(f\"\\nComment: {comment_clean}\\n\")\n",
    "    for label in label_cols:\n",
    "        print(f\"{label:15}: {result[label]['label']:3} (prob: {result[label]['prob']:.2f})\")\n",
    "\n",
    "    return result\n",
    "\n",
    "# ✅ Example usage\n",
    "comment = \"you piece of shit!\"\n",
    "predict_toxicity(comment, model, vocab, device)"
   ],
   "id": "c888bd7c69425a4b",
   "execution_count": null,
   "outputs": []
  },
  {
   "metadata": {
    "ExecuteTime": {
     "end_time": "2025-08-14T18:22:57.370267Z",
     "start_time": "2025-08-14T18:22:57.363215Z"
    }
   },
   "cell_type": "code",
   "source": [
    "for w in [\"you\", \"piece\", \"of\", \"shit\"]:\n",
    "    print(w, \"->\", vocab.get(w, \"<UNK>\"))\n"
   ],
   "id": "3ed3e7cc3996f0f2",
   "outputs": [
    {
     "name": "stdout",
     "output_type": "stream",
     "text": [
      "you -> 22\n",
      "piece -> 1059\n",
      "of -> 28\n",
      "shit -> 2557\n"
     ]
    }
   ],
   "execution_count": 22
  }
 ],
 "metadata": {
  "kernelspec": {
   "display_name": "Python 3",
   "language": "python",
   "name": "python3"
  },
  "language_info": {
   "codemirror_mode": {
    "name": "ipython",
    "version": 2
   },
   "file_extension": ".py",
   "mimetype": "text/x-python",
   "name": "python",
   "nbconvert_exporter": "python",
   "pygments_lexer": "ipython2",
   "version": "2.7.6"
  }
 },
 "nbformat": 4,
 "nbformat_minor": 5
}
