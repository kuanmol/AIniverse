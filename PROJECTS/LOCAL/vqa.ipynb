{
 "cells": [
  {
   "metadata": {
    "ExecuteTime": {
     "end_time": "2025-07-15T03:58:38.056145Z",
     "start_time": "2025-07-15T03:58:33.446411Z"
    }
   },
   "cell_type": "code",
   "source": [
    "from transformers import ViltProcessor, ViltForQuestionAnswering\n",
    "from PIL import Image\n",
    "import torch\n",
    "\n",
    "# Load VQA-finetuned model\n",
    "model = ViltForQuestionAnswering.from_pretrained(\n",
    "    \"dandelin/vilt-b32-finetuned-vqa\",\n",
    "    use_safetensors=True\n",
    ")\n",
    "processor = ViltProcessor.from_pretrained(\"dandelin/vilt-b32-finetuned-vqa\")"
   ],
   "id": "575724c70553c753",
   "outputs": [],
   "execution_count": 16
  },
  {
   "metadata": {
    "ExecuteTime": {
     "end_time": "2025-07-15T04:01:49.214411Z",
     "start_time": "2025-07-15T04:01:49.053277Z"
    }
   },
   "cell_type": "code",
   "source": [
    "\n",
    "# Load and convert image\n",
    "image = Image.open(r\"D:\\Projects\\AIniverse\\PROJECTS\\LOCAL\\img.png\").convert(\"RGB\")\n",
    "question = \"What is this area?\"\n",
    "\n",
    "# Preprocess inputs\n",
    "inputs = processor(text=question, images=image, return_tensors=\"pt\", padding=True)\n",
    "\n",
    "# Inference\n",
    "with torch.no_grad():\n",
    "    outputs = model(**inputs)\n",
    "\n",
    "# Get predicted answer\n",
    "pred_idx = outputs.logits.argmax(-1).item()\n",
    "answer_str = model.config.id2label[pred_idx]"
   ],
   "id": "8365c75f55fe32c2",
   "outputs": [],
   "execution_count": 28
  },
  {
   "metadata": {
    "ExecuteTime": {
     "end_time": "2025-07-15T04:01:50.066575Z",
     "start_time": "2025-07-15T04:01:50.062637Z"
    }
   },
   "cell_type": "code",
   "source": [
    "\n",
    "print(f\"Question: {question}\")\n",
    "print(f\"Answer: {answer_str}\")\n"
   ],
   "id": "2ec1d226b7bc87cc",
   "outputs": [
    {
     "name": "stdout",
     "output_type": "stream",
     "text": [
      "Question: What is this area?\n",
      "Answer: park\n"
     ]
    }
   ],
   "execution_count": 29
  }
 ],
 "metadata": {
  "kernelspec": {
   "display_name": "Python 3",
   "language": "python",
   "name": "python3"
  },
  "language_info": {
   "codemirror_mode": {
    "name": "ipython",
    "version": 2
   },
   "file_extension": ".py",
   "mimetype": "text/x-python",
   "name": "python",
   "nbconvert_exporter": "python",
   "pygments_lexer": "ipython2",
   "version": "2.7.6"
  }
 },
 "nbformat": 4,
 "nbformat_minor": 5
}
