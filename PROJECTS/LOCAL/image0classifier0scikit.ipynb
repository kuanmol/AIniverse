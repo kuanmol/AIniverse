{
 "cells": [
  {
   "cell_type": "code",
   "id": "5223d51de739eb4e",
   "metadata": {
    "ExecuteTime": {
     "end_time": "2025-07-14T12:59:11.039230Z",
     "start_time": "2025-07-14T12:59:11.032565Z"
    }
   },
   "source": [
    "from sklearn import datasets\n",
    "from sklearn.model_selection import train_test_split\n",
    "from sklearn.preprocessing import StandardScaler\n",
    "from sklearn.svm import SVC\n",
    "from sklearn.metrics import classification_report, confusion_matrix\n",
    "import matplotlib.pyplot as plt"
   ],
   "outputs": [],
   "execution_count": 3
  },
  {
   "metadata": {
    "ExecuteTime": {
     "end_time": "2025-07-14T13:06:47.809288Z",
     "start_time": "2025-07-14T13:06:47.794196Z"
    }
   },
   "cell_type": "code",
   "source": [
    "digits=datasets.load_digits()\n",
    "x=digits.data\n",
    "y=digits.target\n",
    "print(x.shape)\n",
    "print(y.shape)\n",
    "print(y)"
   ],
   "id": "3010e76378a50fad",
   "outputs": [
    {
     "name": "stdout",
     "output_type": "stream",
     "text": [
      "(1797, 64)\n",
      "(1797,)\n",
      "[0 1 2 ... 8 9 8]\n"
     ]
    }
   ],
   "execution_count": 24
  },
  {
   "metadata": {},
   "cell_type": "code",
   "source": [
    "fig, axes = plt.subplots(1, 5, figsize=(10, 3))\n",
    "for i, ax in enumerate(axes):\n",
    "    ax.imshow(digits.images[i], cmap='pink')\n",
    "    ax.set_title(f\"Label: {digits.target[i]}\")\n",
    "    ax.axis(\"off\")\n",
    "plt.suptitle(\"Sample images from dataset\")\n",
    "plt.tight_layout()\n",
    "plt.show()"
   ],
   "id": "95493f7902ad2fd6",
   "outputs": [],
   "execution_count": null
  },
  {
   "metadata": {},
   "cell_type": "code",
   "source": [
    "x_train, x_test, y_train, y_test = train_test_split(x, y, test_size=0.3, random_state=42)\n",
    "scaler = StandardScaler()\n",
    "x_train_scaled = scaler.fit_transform(x_train)\n",
    "x_test_scaled = scaler.transform(x_test)\n",
    "print(x_train_scaled.shape)\n",
    "print(x_test_scaled.shape)"
   ],
   "id": "da0ab31f17940baf",
   "outputs": [],
   "execution_count": null
  },
  {
   "metadata": {},
   "cell_type": "code",
   "source": [
    "model=SVC(kernel='rbf',gamma=0.001,C=10)\n",
    "model.fit(x_train_scaled,y_train)"
   ],
   "id": "21b962bd28000e2d",
   "outputs": [],
   "execution_count": null
  },
  {
   "metadata": {},
   "cell_type": "code",
   "source": [
    "y_pred=model.predict(x_test_scaled)\n",
    "print(classification_report(y_test, y_pred))"
   ],
   "id": "4a088fffbb6aea14",
   "outputs": [],
   "execution_count": null
  },
  {
   "metadata": {
    "collapsed": true,
    "ExecuteTime": {
     "end_time": "2025-07-14T13:10:22.683095Z",
     "start_time": "2025-07-14T13:10:22.552237Z"
    }
   },
   "cell_type": "code",
   "source": [
    "    # Display confusion matrix\n",
    "cm = confusion_matrix(y_test, y_pred)\n",
    "plt.figure(figsize=(6, 5))\n",
    "plt.imshow(cm, cmap='Blues')\n",
    "plt.title(\"Confusion Matrix\")\n",
    "plt.xlabel(\"Predicted\")\n",
    "plt.ylabel(\"Actual\")\n",
    "plt.colorbar()\n",
    "plt.tight_layout()\n",
    "plt.show()"
   ],
   "id": "initial_id",
   "outputs": [
    {
     "data": {
      "text/plain": [
       "<Figure size 600x500 with 2 Axes>"
      ],
      "image/png": "[encoded data removed]"
     },
     "metadata": {},
     "output_type": "display_data"
    }
   ],
   "execution_count": 28
  },
  {
   "metadata": {},
   "cell_type": "code",
   "outputs": [],
   "execution_count": null,
   "source": "",
   "id": "d7b18a33275b4d5"
  }
 ],
 "metadata": {
  "kernelspec": {
   "display_name": "Python 3",
   "language": "python",
   "name": "python3"
  },
  "language_info": {
   "codemirror_mode": {
    "name": "ipython",
    "version": 2
   },
   "file_extension": ".py",
   "mimetype": "text/x-python",
   "name": "python",
   "nbconvert_exporter": "python",
   "pygments_lexer": "ipython2",
   "version": "2.7.6"
  }
 },
 "nbformat": 4,
 "nbformat_minor": 5
}
