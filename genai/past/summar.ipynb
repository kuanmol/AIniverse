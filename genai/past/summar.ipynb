{
 "cells": [
  {
   "cell_type": "code",
   "id": "cabe636bb4a9b535",
   "metadata": {
    "ExecuteTime": {
     "end_time": "2025-07-03T17:47:12.814728Z",
     "start_time": "2025-07-03T17:45:46.778514Z"
    }
   },
   "source": [
    "from transformers import pipeline\n",
    "\n",
    "summarizer = pipeline('summarization', model=\"facebook/bart-large-cnn\")\n"
   ],
   "outputs": [
    {
     "name": "stdout",
     "output_type": "stream",
     "text": [
      "WARNING:tensorflow:From D:\\Projects\\AIniverse\\.venv\\Lib\\site-packages\\keras\\src\\losses.py:2976: The name tf.losses.sparse_softmax_cross_entropy is deprecated. Please use tf.compat.v1.losses.sparse_softmax_cross_entropy instead.\n",
      "\n"
     ]
    },
    {
     "data": {
      "text/plain": [
       "config.json: 0.00B [00:00, ?B/s]"
      ],
      "application/vnd.jupyter.widget-view+json": {
       "version_major": 2,
       "version_minor": 0,
       "model_id": "3a888d887ddf4636af8d03106f5071a1"
      }
     },
     "metadata": {},
     "output_type": "display_data"
    },
    {
     "name": "stderr",
     "output_type": "stream",
     "text": [
      "D:\\Projects\\AIniverse\\.venv\\Lib\\site-packages\\huggingface_hub\\file_download.py:143: UserWarning: `huggingface_hub` cache-system uses symlinks by default to efficiently store duplicated files but your machine does not support them in C:\\Users\\anmol\\.cache\\huggingface\\hub\\models--facebook--bart-large-cnn. Caching files will still work but in a degraded version that might require more space on your disk. This warning can be disabled by setting the `HF_HUB_DISABLE_SYMLINKS_WARNING` environment variable. For more details, see https://huggingface.co/docs/huggingface_hub/how-to-cache#limitations.\n",
      "To support symlinks on Windows, you either need to activate Developer Mode or to run Python as an administrator. In order to activate developer mode, see this article: https://docs.microsoft.com/en-us/windows/apps/get-started/enable-your-device-for-development\n",
      "  warnings.warn(message)\n",
      "Xet Storage is enabled for this repo, but the 'hf_xet' package is not installed. Falling back to regular HTTP download. For better performance, install the package with: `pip install huggingface_hub[hf_xet]` or `pip install hf_xet`\n"
     ]
    },
    {
     "data": {
      "text/plain": [
       "model.safetensors:   0%|          | 0.00/1.63G [00:00<?, ?B/s]"
      ],
      "application/vnd.jupyter.widget-view+json": {
       "version_major": 2,
       "version_minor": 0,
       "model_id": "b43f8ca002564476abe679ba69b3b0f9"
      }
     },
     "metadata": {},
     "output_type": "display_data"
    },
    {
     "data": {
      "text/plain": [
       "generation_config.json:   0%|          | 0.00/363 [00:00<?, ?B/s]"
      ],
      "application/vnd.jupyter.widget-view+json": {
       "version_major": 2,
       "version_minor": 0,
       "model_id": "53af95780d0e4282bd3fc9e0fedd4584"
      }
     },
     "metadata": {},
     "output_type": "display_data"
    },
    {
     "data": {
      "text/plain": [
       "vocab.json: 0.00B [00:00, ?B/s]"
      ],
      "application/vnd.jupyter.widget-view+json": {
       "version_major": 2,
       "version_minor": 0,
       "model_id": "7f04c1397b9248298fd9b7e5d8b134b6"
      }
     },
     "metadata": {},
     "output_type": "display_data"
    },
    {
     "data": {
      "text/plain": [
       "merges.txt: 0.00B [00:00, ?B/s]"
      ],
      "application/vnd.jupyter.widget-view+json": {
       "version_major": 2,
       "version_minor": 0,
       "model_id": "4ddb93d33e374c3f9415224ad0af0365"
      }
     },
     "metadata": {},
     "output_type": "display_data"
    },
    {
     "data": {
      "text/plain": [
       "tokenizer.json: 0.00B [00:00, ?B/s]"
      ],
      "application/vnd.jupyter.widget-view+json": {
       "version_major": 2,
       "version_minor": 0,
       "model_id": "c66ceb63c20c4a1788331f94eb24529e"
      }
     },
     "metadata": {},
     "output_type": "display_data"
    },
    {
     "name": "stderr",
     "output_type": "stream",
     "text": [
      "Device set to use cuda:0\n"
     ]
    }
   ],
   "execution_count": 1
  },
  {
   "metadata": {
    "collapsed": true,
    "ExecuteTime": {
     "end_time": "2025-07-03T17:47:14.940311Z",
     "start_time": "2025-07-03T17:47:13.184171Z"
    }
   },
   "cell_type": "code",
   "source": [
    "\n",
    "def summarize(text, max_length=130, min_length=30):\n",
    "    summary = summarizer(text, max_length=max_length, min_length=min_length, do_sample=False)\n",
    "    return summary[0]['summary_text']\n",
    "\n",
    "\n",
    "text = \"\"\"\n",
    "Einstein's theory of relativity, comprised of special and general relativity, revolutionized our understanding of space, time, gravity,\n",
    "and the universe. Special relativity, published in 1905, established that the laws of physics are the same for all observers in uniform\n",
    "motion, and the speed of light is constant for all observers. This led to concepts like time dilation and length contraction, where time\n",
    "and space are relative to the observer's motion. General relativity, published in 1915, extended these ideas to include gravity, describing\n",
    "it as the curvature of spacetime caused by mass and energy. This theory explains phenomena like the bending of light around massive objects\n",
    " and the existence of black holes. Together, these theories demonstrate that space and time are intertwined as spacetime, and that gravity\n",
    "  is not just a force but a manifestation of spacetime curvature.\n",
    "\"\"\"\n",
    "\n",
    "summary = summarize(text)\n",
    "print(text)\n",
    "print(summary)"
   ],
   "id": "initial_id",
   "outputs": [
    {
     "name": "stdout",
     "output_type": "stream",
     "text": [
      "\n",
      "Einstein's theory of relativity, comprised of special and general relativity, revolutionized our understanding of space, time, gravity,\n",
      "and the universe. Special relativity, published in 1905, established that the laws of physics are the same for all observers in uniform\n",
      "motion, and the speed of light is constant for all observers. This led to concepts like time dilation and length contraction, where time\n",
      "and space are relative to the observer's motion. General relativity, published in 1915, extended these ideas to include gravity, describing\n",
      "it as the curvature of spacetime caused by mass and energy. This theory explains phenomena like the bending of light around massive objects\n",
      " and the existence of black holes. Together, these theories demonstrate that space and time are intertwined as spacetime, and that gravity\n",
      "  is not just a force but a manifestation of spacetime curvature.\n",
      "\n",
      "Einstein's theory of relativity revolutionized our understanding of space, time, gravity,and the universe. Special relativity established that the laws of physics are the same for all observers in uniformmotion. General relativity extended these ideas to include gravity, describing curvature of spacetime.\n"
     ]
    }
   ],
   "execution_count": 2
  }
 ],
 "metadata": {
  "kernelspec": {
   "display_name": "Python 3",
   "language": "python",
   "name": "python3"
  },
  "language_info": {
   "codemirror_mode": {
    "name": "ipython",
    "version": 2
   },
   "file_extension": ".py",
   "mimetype": "text/x-python",
   "name": "python",
   "nbconvert_exporter": "python",
   "pygments_lexer": "ipython2",
   "version": "2.7.6"
  }
 },
 "nbformat": 4,
 "nbformat_minor": 5
}
