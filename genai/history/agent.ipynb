{
 "cells": [
  {
   "cell_type": "code",
   "id": "initial_id",
   "metadata": {
    "ExecuteTime": {
     "end_time": "2025-08-23T16:06:31.192181Z",
     "start_time": "2025-08-23T16:04:18.162744Z"
    }
   },
   "source": [
    "from transformers import AutoTokenizer, AutoModelForSeq2SeqLM\n",
    "from sentence_transformers import SentenceTransformer\n",
    "import faiss\n",
    "import numpy as np\n",
    "import re\n",
    "\n",
    "# ----------------------------\n",
    "# 1. Load Models\n",
    "# ----------------------------\n",
    "llm_tokenizer = AutoTokenizer.from_pretrained(\"google/flan-t5-base\")\n",
    "llm_model = AutoModelForSeq2SeqLM.from_pretrained(\"google/flan-t5-base\")\n",
    "embedder = SentenceTransformer(\"all-MiniLM-L6-v2\")\n",
    "\n",
    "# ----------------------------\n",
    "# 2. Build Knowledge Base (for RAG tool)\n",
    "# ----------------------------\n",
    "knowledge_chunks = [\n",
    "    \"Python is a high-level programming language that emphasizes simplicity and readability.\",\n",
    "    \"Java is a versatile, object-oriented programming language designed for portability across platforms.\",\n",
    "    \"Python is dynamically typed and concise, while Java is statically typed and verbose.\"\n",
    "]\n",
    "\n",
    "chunk_embeddings = embedder.encode(knowledge_chunks, convert_to_numpy=True)\n",
    "d = chunk_embeddings.shape[1]\n",
    "index = faiss.IndexFlatL2(d)\n",
    "index.add(chunk_embeddings)\n",
    "\n",
    "# ----------------------------\n",
    "# 3. Tools\n",
    "# ----------------------------\n",
    "def rag_tool(query, k=2):\n",
    "    \"\"\"Retrieve knowledge from FAISS index.\"\"\"\n",
    "    query_emb = embedder.encode([query], convert_to_numpy=True)\n",
    "    D, I = index.search(query_emb, k)\n",
    "    retrieved = [knowledge_chunks[i] for i in I[0] if i < len(knowledge_chunks)]\n",
    "    return \" \".join(retrieved)"
   ],
   "outputs": [
    {
     "name": "stdout",
     "output_type": "stream",
     "text": [
      "WARNING:tensorflow:From R:\\AIniverse\\.venv\\Lib\\site-packages\\keras\\src\\losses.py:2976: The name tf.losses.sparse_softmax_cross_entropy is deprecated. Please use tf.compat.v1.losses.sparse_softmax_cross_entropy instead.\n",
      "\n"
     ]
    }
   ],
   "execution_count": 1
  },
  {
   "metadata": {
    "ExecuteTime": {
     "end_time": "2025-08-23T16:47:05.678766Z",
     "start_time": "2025-08-23T16:47:03.267239Z"
    }
   },
   "cell_type": "code",
   "source": [
    "\n",
    "def calculator_tool(query):\n",
    "    \"\"\"Evaluate simple math expression from user query.\"\"\"\n",
    "    expr = re.findall(r\"[\\d+\\-*/().]+\", query)\n",
    "    if expr:\n",
    "        try:\n",
    "            result = eval(\"\".join(expr))\n",
    "            return f\"The result is {result}.\"\n",
    "        except:\n",
    "            return \"Sorry, I couldn’t calculate that.\"\n",
    "    return \"No math expression found.\"\n",
    "\n",
    "# ----------------------------\n",
    "# 4. Agent Controller\n",
    "# ----------------------------\n",
    "def agent(query):\n",
    "    # Step 1: Ask LLM which tool to use\n",
    "    instruction = f\"\"\"\n",
    "You are a controller agent.\n",
    "Decide which tool is best for the question.\n",
    "Available tools:\n",
    "- RAG: for knowledge questions (Python, Java, etc).\n",
    "- CALC: for math/calculation questions.\n",
    "\n",
    "Question: {query}\n",
    "Answer ONLY 'RAG' or 'CALC'.\"\"\"\n",
    "\n",
    "    inputs = llm_tokenizer(instruction, return_tensors=\"pt\", truncation=True)\n",
    "    outputs = llm_model.generate(**inputs, max_length=10)\n",
    "    decision = llm_tokenizer.decode(outputs[0], skip_special_tokens=True).strip()\n",
    "\n",
    "    # Step 2: Route to tool\n",
    "    if \"CALC\" in decision.upper():\n",
    "        tool_result = calculator_tool(query)\n",
    "    else:\n",
    "        context = rag_tool(query)\n",
    "        tool_result = context\n",
    "\n",
    "    return tool_result\n",
    "\n",
    "# ----------------------------\n",
    "# 5. Demo\n",
    "# ----------------------------\n",
    "print(\"User: What is Python?\")\n",
    "print(\"Agent:\", agent(\"What is Python?\"))\n",
    "\n",
    "print(\"\\nUser: What is Java?\")\n",
    "print(\"Agent:\", agent(\"What is Java?\"))\n",
    "\n",
    "print(\"\\nUser: Compare Python and Java.\")\n",
    "print(\"Agent:\", agent(\"Compare Python and Java.\"))\n",
    "\n",
    "print(\"\\nUser: What is 2 + 5 * 3?\")\n",
    "print(\"Agent:\", agent(\"What is 2 + 5 * 3?\"))\n"
   ],
   "id": "38d63433cc2dfa2",
   "outputs": [
    {
     "name": "stdout",
     "output_type": "stream",
     "text": [
      "User: What is Python?\n",
      "Agent: Python is a high-level programming language that emphasizes simplicity and readability. Python is dynamically typed and concise, while Java is statically typed and verbose.\n",
      "\n",
      "User: What is Java?\n",
      "Agent: Java is a versatile, object-oriented programming language designed for portability across platforms. Python is dynamically typed and concise, while Java is statically typed and verbose.\n",
      "\n",
      "User: Compare Python and Java.\n",
      "Agent: Python is dynamically typed and concise, while Java is statically typed and verbose. Python is a high-level programming language that emphasizes simplicity and readability.\n",
      "\n",
      "User: What is 2 + 5 * 3?\n",
      "Agent: The result is 17.\n"
     ]
    }
   ],
   "execution_count": 2
  },
  {
   "metadata": {},
   "cell_type": "code",
   "outputs": [],
   "execution_count": null,
   "source": "",
   "id": "c99098c3ac028525"
  },
  {
   "metadata": {},
   "cell_type": "code",
   "outputs": [],
   "execution_count": null,
   "source": "",
   "id": "2a647065763a8979"
  },
  {
   "metadata": {},
   "cell_type": "code",
   "outputs": [],
   "execution_count": null,
   "source": "",
   "id": "317dbe8101903eae"
  }
 ],
 "metadata": {
  "kernelspec": {
   "display_name": "Python 3",
   "language": "python",
   "name": "python3"
  },
  "language_info": {
   "codemirror_mode": {
    "name": "ipython",
    "version": 2
   },
   "file_extension": ".py",
   "mimetype": "text/x-python",
   "name": "python",
   "nbconvert_exporter": "python",
   "pygments_lexer": "ipython2",
   "version": "2.7.6"
  }
 },
 "nbformat": 4,
 "nbformat_minor": 5
}
